{
 "cells": [
  {
   "cell_type": "code",
   "execution_count": 3,
   "id": "f275bcc1",
   "metadata": {},
   "outputs": [
    {
     "data": {
      "text/plain": [
       "Installed package HtmlAgilityPack.CssSelectors version 1.0.2"
      ]
     },
     "metadata": {},
     "output_type": "display_data"
    },
    {
     "data": {
      "text/plain": [
       "Installed package HtmlAgilityPack version 1.11.42"
      ]
     },
     "metadata": {},
     "output_type": "display_data"
    }
   ],
   "source": [
    "// Adding some packages\n",
    "#r \"nuget:HtmlAgilityPack\"\n",
    "#r \"nuget:HtmlAgilityPack.CssSelectors\""
   ]
  },
  {
   "cell_type": "code",
   "execution_count": 6,
   "id": "36113aa4",
   "metadata": {},
   "outputs": [],
   "source": [
    "using System;\n",
    "using System.Linq;\n",
    "\n",
    "\n",
    "public class JobOffer\n",
    "{\n",
    "    public string Title { get; set; }\n",
    "    public string Company { get; set; }\n",
    "    public string Description { get; set; }\n",
    "    public string City { get; set; }\n",
    "    private string _nbDays { get; set; }\n",
    "    public string DaysAgo\n",
    "    {\n",
    "        get => _nbDays;\n",
    "        set\n",
    "        {\n",
    "            if (value.Contains(\"Il y a\"))\n",
    "            {\n",
    "                _nbDays = string.Join(\"\", value.ToCharArray().Where(Char.IsDigit));\n",
    "            }\n",
    "            else\n",
    "            {\n",
    "                _nbDays = \"0\";\n",
    "            }\n",
    "        }\n",
    "    }\n",
    "    public DateTime Published\n",
    "    { get => DateTime.Now.AddDays(-Int32.Parse(DaysAgo)); }\n",
    "}"
   ]
  },
  {
   "cell_type": "code",
   "execution_count": null,
   "id": "cc82424a",
   "metadata": {},
   "outputs": [],
   "source": []
  },
  {
   "cell_type": "code",
   "execution_count": 24,
   "id": "c8932cb8",
   "metadata": {},
   "outputs": [],
   "source": [
    "using System.Net;\n",
    "using System.Net.Http;\n",
    "using System.Threading.Tasks;\n",
    "using System.Collections.Generic;\n",
    "using HtmlAgilityPack;\n",
    "using System.Linq;\n",
    "using System.Web;\n",
    "\n",
    "public class Indeed\n",
    "{\n",
    "    public string response { get; set; }\n",
    "    public HtmlDocument htmlDoc { get; set; }\n",
    "    public int MaxValue { get; }\n",
    "    public string Location { get; }\n",
    "    public string Query { get; }\n",
    "    public int NbPages { get; set; }\n",
    "    public Indeed(string query, int nbPages, string location = \"France\")\n",
    "    {\n",
    "        NbPages = nbPages;\n",
    "        Query = query;\n",
    "        Location = location;\n",
    "    }\n",
    "\n",
    "    public List<string> MakeUrls()\n",
    "    {\n",
    "        var urls = new List<string>();\n",
    "        string baseUrl = \"http://fr.indeed.com\";\n",
    "        string query = HttpUtility.UrlEncode(Query);\n",
    "        string location = HttpUtility.UrlEncode(Location);\n",
    "        urls.Add(baseUrl + \"/emplois?q=\" + query + \"&l=\" + location + \"&limit=50\");\n",
    "\n",
    "        if (NbPages == 1)\n",
    "            return urls;\n",
    "        int currStart = 50;\n",
    "        for (int i = 1; i < NbPages; i++)\n",
    "        {\n",
    "            string url = $\"https://fr.indeed.com/emplois?as_and={query}&limit={50}&start={currStart}&l={location}\";\n",
    "            currStart += 50;\n",
    "            urls.Add(url);\n",
    "        }\n",
    "\n",
    "        return urls;\n",
    "    }\n",
    "\n",
    "    public List<JobOffer> GetJobs()\n",
    "    {\n",
    "        var urls = MakeUrls();\n",
    "        var allJobs = new List<List<JobOffer>>();\n",
    "        foreach (var url in urls)\n",
    "        {\n",
    "            var job = ParseHtml(url);\n",
    "            allJobs.Add(job);\n",
    "        }\n",
    "\n",
    "        return allJobs.SelectMany(i => i).ToList();\n",
    "    }\n",
    "    public static string GetUrl(string url)\n",
    "    {\n",
    "        HttpClient client = new HttpClient();\n",
    "        ServicePointManager.SecurityProtocol = SecurityProtocolType.Tls13;\n",
    "        client.DefaultRequestHeaders.Accept.Clear();\n",
    "        var response = client.GetStringAsync(url).Result;\n",
    "        return response;\n",
    "    }\n",
    "\n",
    "\n",
    "\n",
    "    List<JobOffer> ParseHtml(string url)\n",
    "    {\n",
    "        var response = GetUrl(url);\n",
    "        var htmlDoc = new HtmlDocument();\n",
    "        htmlDoc.LoadHtml(response);\n",
    "        var res = htmlDoc.DocumentNode.Descendants(\"h2\").\n",
    "            Where(node => node.GetAttributeValue(\"class\", \"\").\n",
    "            Contains(\"jobTitle\") || node.GetAttributeValue(\"class\", \"\").\n",
    "            Contains(\"new\"));\n",
    "\n",
    "        int nbJobs = GetByClass(htmlDoc, \"div\", \"class\", \"job_seen_beacon\").Count;\n",
    "        var jobTitles = GetByClass(htmlDoc, \"h2\", \"class\", \"jobTitle\");\n",
    "        var companyNames = GetByClass(htmlDoc, \"span\", \"class\", \"companyName\");\n",
    "        var companyLocations = GetByClass(htmlDoc, \"div\", \"class\", \"companyLocation\");\n",
    "        var jobSnippets = GetByClass(htmlDoc, \"div\", \"class\", \"job-snippet\");\n",
    "        var daysAgo = GetByClass(htmlDoc, \"span\", \"class\", \"date\");\n",
    "\n",
    "        var Jobs = new List<JobOffer>();\n",
    "\n",
    "        for (int i = 0; i < nbJobs; i++)\n",
    "        {\n",
    "            var job = new JobOffer();\n",
    "            job.Title = jobTitles.ElementAt(i);\n",
    "            job.Company = companyNames.ElementAt(i);\n",
    "            job.City = companyLocations.ElementAt(i);\n",
    "            job.Description = jobSnippets.ElementAt(i);\n",
    "            job.DaysAgo = daysAgo.ElementAt(i);\n",
    "            Jobs.Add(job);\n",
    "        }\n",
    "        return Jobs;\n",
    "    }\n",
    "\n",
    "    static List<string> GetByClass(HtmlDocument htmlDoc, string descendant, string attribute, string className)\n",
    "    {\n",
    "        var res = htmlDoc.DocumentNode.Descendants(descendant).\n",
    "        Where(node => node.GetAttributeValue(attribute, \"\").\n",
    "              Contains(className));\n",
    "        return res.Select(val => val.InnerText).ToList();\n",
    "    }\n",
    "\n",
    "}"
   ]
  },
  {
   "cell_type": "code",
   "execution_count": 8,
   "id": "b6380d82",
   "metadata": {},
   "outputs": [],
   "source": [
    "public static string Input(string msg)\n",
    "{\n",
    "    Console.Write(msg);\n",
    "    return Console.ReadLine();\n",
    "}"
   ]
  },
  {
   "cell_type": "code",
   "execution_count": 25,
   "id": "a01e793e",
   "metadata": {},
   "outputs": [
    {
     "name": "stdout",
     "output_type": "stream",
     "text": [
      "http://fr.indeed.com/emplois?q=Data+science&l=France&limit=50\n",
      "https://fr.indeed.com/emplois?as_and=Data+science&limit=50&start=50&l=France\n",
      "https://fr.indeed.com/emplois?as_and=Data+science&limit=50&start=100&l=France\n",
      "https://fr.indeed.com/emplois?as_and=Data+science&limit=50&start=150&l=France\n"
     ]
    }
   ],
   "source": [
    "var query = \"Data science\";\n",
    "var nbPages = 4;\n",
    "var location = \"France\";\n",
    "var scraper = new Indeed(query, nbPages, location);\n",
    "\n",
    "var urls = scraper.MakeUrls();\n",
    "\n",
    "foreach (var url in urls)\n",
    "    {\n",
    "        Console.WriteLine(url);\n",
    "    }"
   ]
  },
  {
   "cell_type": "code",
   "execution_count": 26,
   "id": "88d4a1c9",
   "metadata": {},
   "outputs": [],
   "source": [
    "var allJobs = scraper.GetJobs();"
   ]
  },
  {
   "cell_type": "code",
   "execution_count": 27,
   "id": "78d83e07",
   "metadata": {},
   "outputs": [
    {
     "data": {
      "text/html": [
       "<table><thead><tr><th><i>index</i></th><th>Title</th><th>Company</th><th>Description</th><th>City</th><th>DaysAgo</th><th>Published</th></tr></thead><tbody><tr><td>0</td><td><div class=\"dni-plaintext\">nouveauData Scientist H/F</div></td><td><div class=\"dni-plaintext\">Energiency</div></td><td><div class=\"dni-plaintext\"> \n",
       " R&#233;alisation d’&#233;tudes de data science.\n",
       " R&#233;alisation d’une veille active sur les publications scientifiques et les techniques relatives &#224; la data science.\n",
       "</div></td><td><div class=\"dni-plaintext\">35000 Rennes</div></td><td><div class=\"dni-plaintext\">0</div></td><td><span>2022-03-02 02:22:35Z</span></td></tr><tr><td>1</td><td><div class=\"dni-plaintext\">nouveauDATA ANALYST - NIORT H/F</div></td><td><div class=\"dni-plaintext\">MAIF</div></td><td><div class=\"dni-plaintext\"> \n",
       " DATA ANALYST - NIORT H/F.\n",
       " Au sein de la Tribu Intelligence Artificielle et Data Op&#233;rationnelle de la Datafactory MAIF, nous recherchons un Data Analyst afin d…\n",
       "</div></td><td><div class=\"dni-plaintext\">Niort (79)+ 1&#160;lieu</div></td><td><div class=\"dni-plaintext\">0</div></td><td><span>2022-03-02 02:22:35Z</span></td></tr><tr><td>2</td><td><div class=\"dni-plaintext\">Data Scientist Big Data (F/H)</div></td><td><div class=\"dni-plaintext\">AXA</div></td><td><div class=\"dni-plaintext\"> \n",
       " Gestion de projet data et data science.\n",
       " Animation de formations data d’acculturation et de formations professionnalisantes internes sur les outils et pratiques…\n",
       "</div></td><td><div class=\"dni-plaintext\">Nanterre (92)</div></td><td><div class=\"dni-plaintext\">0</div></td><td><span>2022-03-02 02:22:35Z</span></td></tr><tr><td>3</td><td><div class=\"dni-plaintext\">Data Analyst - AXA Climate (F/M) - PARIS</div></td><td><div class=\"dni-plaintext\">AXA</div></td><td><div class=\"dni-plaintext\"> \n",
       " The delivery of these missions encompasses a wide range of responsibilities and tasks from data collection, data cleaning, data analysis, data modeling, data…\n",
       "</div></td><td><div class=\"dni-plaintext\">Paris (75)</div></td><td><div class=\"dni-plaintext\">0</div></td><td><span>2022-03-02 02:22:35Z</span></td></tr><tr><td>4</td><td><div class=\"dni-plaintext\">nouveauAlternant Data Scientist (H/F)</div></td><td><div class=\"dni-plaintext\">Carrefour</div></td><td><div class=\"dni-plaintext\"> \n",
       " Vous serez rattach&#233;(e) au service Pricing/Data science Front De Vente et vous aurez un r&#244;le de data scientist transverse au sein de la BU Carfuel.\n",
       "</div></td><td><div class=\"dni-plaintext\">91000 &#201;vry</div></td><td><div class=\"dni-plaintext\">0</div></td><td><span>2022-03-02 02:22:35Z</span></td></tr><tr><td>5</td><td><div class=\"dni-plaintext\">Data Scientist H/F</div></td><td><div class=\"dni-plaintext\">Better and Stronger</div></td><td><div class=\"dni-plaintext\"> \n",
       " La pr&#233;sentation des solutions data aux clients.\n",
       " La construction d’une roadmap &#224; long terme avec le client en partenariat avec le responsable du compte.\n",
       "</div></td><td><div class=\"dni-plaintext\">69001 Lyon</div></td><td><div class=\"dni-plaintext\">0</div></td><td><span>2022-03-02 02:22:35Z</span></td></tr><tr><td>6</td><td><div class=\"dni-plaintext\">Data Scientist Climat H/F</div></td><td><div class=\"dni-plaintext\">Generali</div></td><td><div class=\"dni-plaintext\"> \n",
       " Generali, l’un des leaders mondiaux de l’assurance, accompagne plus de 65 millions de clients &#224; travers le monde.\n",
       " Type d&#39;emploi : Temps plein, CDI.\n",
       "</div></td><td><div class=\"dni-plaintext\">Saint-Denis (93)</div></td><td><div class=\"dni-plaintext\">0</div></td><td><span>2022-03-02 02:22:35Z</span></td></tr><tr><td>7</td><td><div class=\"dni-plaintext\">nouveauStagiaire Data Scientist H/F</div></td><td><div class=\"dni-plaintext\">HIPPY MEDTEC SYSTEMS</div></td><td><div class=\"dni-plaintext\"> \n",
       " Formaliser les probl&#232;mes et proposer de solutions th&#233;oriques bas&#233;es sur des &#233;tudes statistiques, du Machine Learning et de la data visualisation,.\n",
       "</div></td><td><div class=\"dni-plaintext\">13011 Marseille 11e</div></td><td><div class=\"dni-plaintext\">0</div></td><td><span>2022-03-02 02:22:35Z</span></td></tr><tr><td>8</td><td><div class=\"dni-plaintext\">DATA SCIENTIST H/F</div></td><td><div class=\"dni-plaintext\">BNP Paribas</div></td><td><div class=\"dni-plaintext\"> \n",
       " Cette exp&#233;rience vous permettra de mettre en pratique vos comp&#233;tences en mati&#232;re d’analyse de donn&#233;es sur des jeux de donn&#233;es complexes et volumineux au c&#244;t&#233;…\n",
       "</div></td><td><div class=\"dni-plaintext\">Nanterre (92)+ 1&#160;lieu</div></td><td><div class=\"dni-plaintext\">0</div></td><td><span>2022-03-02 02:22:35Z</span></td></tr><tr><td>9</td><td><div class=\"dni-plaintext\">Data Scientist (H/F) en Stage</div></td><td><div class=\"dni-plaintext\">AXA</div></td><td><div class=\"dni-plaintext\"> \n",
       " Formalisation des probl&#232;mes et proposition de solutions th&#233;oriques bas&#233;es sur des &#233;tudes statistiques, du Machine Learning, de la data visualisation,.\n",
       "</div></td><td><div class=\"dni-plaintext\">Nanterre (92)</div></td><td><div class=\"dni-plaintext\">0</div></td><td><span>2022-03-02 02:22:35Z</span></td></tr><tr><td>10</td><td><div class=\"dni-plaintext\">Data Engineer (H/F) en Stage</div></td><td><div class=\"dni-plaintext\">AXA</div></td><td><div class=\"dni-plaintext\"> \n",
       " Vous manifestez un int&#233;r&#234;t fort pour les probl&#233;matiques data et vous ma&#238;trisez les bases de la data science et de la data visualisation.\n",
       "</div></td><td><div class=\"dni-plaintext\">Nanterre (92)</div></td><td><div class=\"dni-plaintext\">0</div></td><td><span>2022-03-02 02:22:35Z</span></td></tr><tr><td>11</td><td><div class=\"dni-plaintext\">Data Scientist - D&#233;veloppeur Chatbot - NIORT H/F</div></td><td><div class=\"dni-plaintext\">MAIF</div></td><td><div class=\"dni-plaintext\"> \n",
       " Vous justifiez d’une exp&#233;rience de 2 ans minimum en data science, IA Conversationnelle et NLP.\n",
       " Data Scientist - D&#233;veloppeur Chatbot - NIORT H/F.\n",
       "</div></td><td><div class=\"dni-plaintext\">Niort (79)</div></td><td><div class=\"dni-plaintext\">0</div></td><td><span>2022-03-02 02:22:35Z</span></td></tr><tr><td>12</td><td><div class=\"dni-plaintext\">Climate Data Engineer (F/H) - PARIS</div></td><td><div class=\"dni-plaintext\">AXA</div></td><td><div class=\"dni-plaintext\"> \n",
       " Mise &#224; disposition des donn&#233;es brutes pour des enjeux de data science, construction de datastore de donn&#233;es climatiques avec metadata associ&#233;es.\n",
       "</div></td><td><div class=\"dni-plaintext\">Paris (75)</div></td><td><div class=\"dni-plaintext\">0</div></td><td><span>2022-03-02 02:22:35Z</span></td></tr><tr><td>13</td><td><div class=\"dni-plaintext\">nouveauAssistant(e) RH en alternance - BAC+3/MASTER - H/F</div></td><td><div class=\"dni-plaintext\">Leroy Merlin</div></td><td><div class=\"dni-plaintext\"> \n",
       " D&#232;s votre process de recrutement, et lorsque vous passerez les portes du sas d&#39;entr&#233;e de votre magasin d&#39;accueil, votre contrat en alternance en poche, vous…\n",
       "</div></td><td><div class=\"dni-plaintext\">Tours (37)</div></td><td><div class=\"dni-plaintext\">0</div></td><td><span>2022-03-02 02:22:35Z</span></td></tr><tr><td>14</td><td><div class=\"dni-plaintext\">Data Scientist (H/F) (IT)</div></td><td><div class=\"dni-plaintext\">CITECH</div></td><td><div class=\"dni-plaintext\"> \n",
       "  Identification des KPIs probants relatifs aux objectifs utilisateur et m&#233;tier.\n",
       "  Conception du mod&#232;le de donn&#233;es de la Dataviz.\n",
       "</div></td><td><div class=\"dni-plaintext\">Marseille (13)</div></td><td><div class=\"dni-plaintext\">0</div></td><td><span>2022-03-02 02:22:35Z</span></td></tr><tr><td>15</td><td><div class=\"dni-plaintext\">Data Scientist (full time, all seniority levels) - QuantumBl...</div></td><td><div class=\"dni-plaintext\">McKinsey &amp;amp; Company</div></td><td><div class=\"dni-plaintext\"> \n",
       " Develop data science products and solutions for clients as well as for our data science team.\n",
       " Work within one of the largest and most advanced data science…\n",
       "</div></td><td><div class=\"dni-plaintext\">75008 Paris</div></td><td><div class=\"dni-plaintext\">0</div></td><td><span>2022-03-02 02:22:35Z</span></td></tr><tr><td>16</td><td><div class=\"dni-plaintext\">Research Data Scientist</div></td><td><div class=\"dni-plaintext\">Facebook App</div></td><td><div class=\"dni-plaintext\"> \n",
       " Experience with data visualization libraries such as Matplotlib, Pyplot, ggplot2.\n",
       " Experience with Machine Learning, Statistics, or other data analysis tools and…\n",
       "</div></td><td><div class=\"dni-plaintext\">T&#233;l&#233;travail</div></td><td><div class=\"dni-plaintext\">0</div></td><td><span>2022-03-02 02:22:35Z</span></td></tr><tr><td>17</td><td><div class=\"dni-plaintext\">nouveauCONSULTANT EXP&#201;RIMENT&#201; DATA SCIENCE H/F</div></td><td><div class=\"dni-plaintext\">KPMG</div></td><td><div class=\"dni-plaintext\"> \n",
       " Avec 200 consultants au sein de notre centre d’excellence donn&#233;es en France et un r&#233;seau mondial de plus de 14000 personnes, Lighthouse, notre &#233;quipe Data…\n",
       "</div></td><td><div class=\"dni-plaintext\">La D&#233;fense (92)</div></td><td><div class=\"dni-plaintext\">0</div></td><td><span>2022-03-02 02:22:35Z</span></td></tr><tr><td>18</td><td><div class=\"dni-plaintext\">nouveauAlternance - Charg&#233; d&amp;#x27;&#233;tudes actuarielles (Data Science) H/F</div></td><td><div class=\"dni-plaintext\">Groupama Gan Vie</div></td><td><div class=\"dni-plaintext\"> \n",
       " Participer &#224; la mise en place de datavisualisation des donn&#233;es de portefeuille sur le p&#233;rim&#232;tre pr&#233;voyance individuelle via l&#39;outil Qlik (SQL).\n",
       "</div></td><td><div class=\"dni-plaintext\">Bordeaux (33)</div></td><td><div class=\"dni-plaintext\">0</div></td><td><span>2022-03-02 02:22:35Z</span></td></tr><tr><td>19</td><td><div class=\"dni-plaintext\">Data Analyst H/F (IT)</div></td><td><div class=\"dni-plaintext\">Groupe Les Mousquetaires</div></td><td><div class=\"dni-plaintext\"> \n",
       " Fournir des rapports permettant d&#39;orienter les prises de d&#233;cision du management et d&#39;am&#233;liorer les performances et les strat&#233;gies d&#233;finies.\n",
       "</div></td><td><div class=\"dni-plaintext\">Bondoufle (91)</div></td><td><div class=\"dni-plaintext\">0</div></td><td><span>2022-03-02 02:22:35Z</span></td></tr><tr><td colspan=\"7\">(180 more)</td></tr></tbody></table>"
      ]
     },
     "execution_count": 27,
     "metadata": {},
     "output_type": "execute_result"
    }
   ],
   "source": [
    "allJobs"
   ]
  },
  {
   "cell_type": "code",
   "execution_count": 19,
   "id": "95db0ef7",
   "metadata": {},
   "outputs": [],
   "source": [
    "Indeed.GetUrl(\"http://fr.indeed.com/emplois?q=Data+science&l=France&limit=50\");"
   ]
  },
  {
   "cell_type": "code",
   "execution_count": null,
   "id": "37f18ceb",
   "metadata": {},
   "outputs": [],
   "source": []
  },
  {
   "cell_type": "code",
   "execution_count": null,
   "id": "b15ffc75",
   "metadata": {},
   "outputs": [],
   "source": []
  }
 ],
 "metadata": {
  "kernelspec": {
   "display_name": ".NET (C#)",
   "language": "C#",
   "name": ".net-csharp"
  },
  "language_info": {
   "file_extension": ".cs",
   "mimetype": "text/x-csharp",
   "name": "C#",
   "pygments_lexer": "csharp",
   "version": "8.0"
  }
 },
 "nbformat": 4,
 "nbformat_minor": 5
}
