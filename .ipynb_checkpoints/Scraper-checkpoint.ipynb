{
 "cells": [
  {
   "cell_type": "code",
   "execution_count": 1,
   "metadata": {},
   "outputs": [
    {
     "data": {
      "text/html": [
       "\r\n",
       "<div>\r\n",
       "    <div id='dotnet-interactive-this-cell-18952.Microsoft.DotNet.Interactive.Http.HttpPort' style='display: none'>\r\n",
       "        The below script needs to be able to find the current output cell; this is an easy method to get it.\r\n",
       "    </div>\r\n",
       "    <script type='text/javascript'>\r\n",
       "async function probeAddresses(probingAddresses) {\r\n",
       "    function timeout(ms, promise) {\r\n",
       "        return new Promise(function (resolve, reject) {\r\n",
       "            setTimeout(function () {\r\n",
       "                reject(new Error('timeout'))\r\n",
       "            }, ms)\r\n",
       "            promise.then(resolve, reject)\r\n",
       "        })\r\n",
       "    }\r\n",
       "\r\n",
       "    if (Array.isArray(probingAddresses)) {\r\n",
       "        for (let i = 0; i < probingAddresses.length; i++) {\r\n",
       "\r\n",
       "            let rootUrl = probingAddresses[i];\r\n",
       "\r\n",
       "            if (!rootUrl.endsWith('/')) {\r\n",
       "                rootUrl = `${rootUrl}/`;\r\n",
       "            }\r\n",
       "\r\n",
       "            try {\r\n",
       "                let response = await timeout(1000, fetch(`${rootUrl}discovery`, {\r\n",
       "                    method: 'POST',\r\n",
       "                    cache: 'no-cache',\r\n",
       "                    mode: 'cors',\r\n",
       "                    timeout: 1000,\r\n",
       "                    headers: {\r\n",
       "                        'Content-Type': 'text/plain'\r\n",
       "                    },\r\n",
       "                    body: probingAddresses[i]\r\n",
       "                }));\r\n",
       "\r\n",
       "                if (response.status == 200) {\r\n",
       "                    return rootUrl;\r\n",
       "                }\r\n",
       "            }\r\n",
       "            catch (e) { }\r\n",
       "        }\r\n",
       "    }\r\n",
       "}\r\n",
       "\r\n",
       "function loadDotnetInteractiveApi() {\r\n",
       "    probeAddresses([\"http://192.168.56.1:1000/\", \"http://192.168.1.66:1000/\", \"http://192.168.137.1:1000/\", \"http://172.18.208.1:1000/\", \"http://172.24.64.1:1000/\", \"http://172.17.32.1:1000/\", \"http://172.18.0.1:1000/\", \"http://127.0.0.1:1000/\"])\r\n",
       "        .then((root) => {\r\n",
       "        // use probing to find host url and api resources\r\n",
       "        // load interactive helpers and language services\r\n",
       "        let dotnetInteractiveRequire = require.config({\r\n",
       "        context: '18952.Microsoft.DotNet.Interactive.Http.HttpPort',\r\n",
       "                paths:\r\n",
       "            {\r\n",
       "                'dotnet-interactive': `${root}resources`\r\n",
       "                }\r\n",
       "        }) || require;\r\n",
       "\r\n",
       "            window.dotnetInteractiveRequire = dotnetInteractiveRequire;\r\n",
       "\r\n",
       "            window.configureRequireFromExtension = function(extensionName, extensionCacheBuster) {\r\n",
       "                let paths = {};\r\n",
       "                paths[extensionName] = `${root}extensions/${extensionName}/resources/`;\r\n",
       "                \r\n",
       "                let internalRequire = require.config({\r\n",
       "                    context: extensionCacheBuster,\r\n",
       "                    paths: paths,\r\n",
       "                    urlArgs: `cacheBuster=${extensionCacheBuster}`\r\n",
       "                    }) || require;\r\n",
       "\r\n",
       "                return internalRequire\r\n",
       "            };\r\n",
       "        \r\n",
       "            dotnetInteractiveRequire([\r\n",
       "                    'dotnet-interactive/dotnet-interactive'\r\n",
       "                ],\r\n",
       "                function (dotnet) {\r\n",
       "                    dotnet.init(window);\r\n",
       "                },\r\n",
       "                function (error) {\r\n",
       "                    console.log(error);\r\n",
       "                }\r\n",
       "            );\r\n",
       "        })\r\n",
       "        .catch(error => {console.log(error);});\r\n",
       "    }\r\n",
       "\r\n",
       "// ensure `require` is available globally\r\n",
       "if ((typeof(require) !==  typeof(Function)) || (typeof(require.config) !== typeof(Function))) {\r\n",
       "    let require_script = document.createElement('script');\r\n",
       "    require_script.setAttribute('src', 'https://cdnjs.cloudflare.com/ajax/libs/require.js/2.3.6/require.min.js');\r\n",
       "    require_script.setAttribute('type', 'text/javascript');\r\n",
       "    \r\n",
       "    \r\n",
       "    require_script.onload = function() {\r\n",
       "        loadDotnetInteractiveApi();\r\n",
       "    };\r\n",
       "\r\n",
       "    document.getElementsByTagName('head')[0].appendChild(require_script);\r\n",
       "}\r\n",
       "else {\r\n",
       "    loadDotnetInteractiveApi();\r\n",
       "}\r\n",
       "\r\n",
       "    </script>\r\n",
       "</div>"
      ]
     },
     "metadata": {},
     "output_type": "display_data"
    },
    {
     "data": {
      "text/plain": [
       "Installed package HtmlAgilityPack.CssSelectors version 1.0.2"
      ]
     },
     "metadata": {},
     "output_type": "display_data"
    },
    {
     "data": {
      "text/plain": [
       "Installed package HtmlAgilityPack version 1.11.42"
      ]
     },
     "metadata": {},
     "output_type": "display_data"
    }
   ],
   "source": [
    "// Adding some packages\n",
    "#r \"nuget:HtmlAgilityPack\"\n",
    "#r \"nuget:HtmlAgilityPack.CssSelectors\""
   ]
  },
  {
   "cell_type": "code",
   "execution_count": 2,
   "metadata": {},
   "outputs": [],
   "source": [
    "using System;\n",
    "using System.Linq;\n",
    "public class JobOffer\n",
    "{\n",
    "    public string Title { get; set; }\n",
    "    public string Company { get; set; }\n",
    "    public string Description { get; set; }\n",
    "    public string City { get; set; }\n",
    "    private DateTime _published;\n",
    "    public DateTime Published\n",
    "    {\n",
    "        get => _published;\n",
    "        set\n",
    "        {\n",
    "            string daysAgo = value.ToString();\n",
    "            var nbDays = -Int32.Parse(string.Join(\"\", daysAgo.ToCharArray().Where(Char.IsDigit)));\n",
    "            _published = DateTime.Now.AddDays(nbDays);\n",
    "        }\n",
    "    }\n",
    "}"
   ]
  },
  {
   "cell_type": "code",
   "execution_count": 3,
   "metadata": {},
   "outputs": [],
   "source": [
    "using System.Net;\n",
    "using System.Net.Http;\n",
    "using System.Threading.Tasks;\n",
    "using System.Collections.Generic;\n",
    "//using Persistence;\n",
    "using HtmlAgilityPack;\n",
    "\n",
    "public static async Task<string> GetUrl(string url)\n",
    "{\n",
    "    HttpClient client = new HttpClient();\n",
    "    ServicePointManager.SecurityProtocol = SecurityProtocolType.Tls13;\n",
    "    client.DefaultRequestHeaders.Accept.Clear();\n",
    "    var response = client.GetStringAsync(url);\n",
    "    return await response;\n",
    "}"
   ]
  },
  {
   "cell_type": "code",
   "execution_count": 4,
   "metadata": {},
   "outputs": [],
   "source": [
    "var response = GetUrl(\"https://fr.indeed.com/jobs?q=data%20analyst&l=Pays%20de%20la%20Loire&vjk=180d9bf609f96043\").Result;"
   ]
  },
  {
   "cell_type": "code",
   "execution_count": 5,
   "metadata": {},
   "outputs": [],
   "source": [
    "var htmlDoc = new HtmlDocument();\n",
    "htmlDoc.LoadHtml(response);"
   ]
  },
  {
   "cell_type": "code",
   "execution_count": 6,
   "metadata": {},
   "outputs": [],
   "source": [
    "var res = htmlDoc.DocumentNode.Descendants(\"h2\").\n",
    "    Where(node => node.GetAttributeValue(\"class\", \"\").\n",
    "          Contains(\"jobTitle\") || node.GetAttributeValue(\"class\", \"\").\n",
    "          Contains(\"new\"));"
   ]
  },
  {
   "cell_type": "code",
   "execution_count": null,
   "metadata": {},
   "outputs": [],
   "source": []
  },
  {
   "cell_type": "code",
   "execution_count": 7,
   "metadata": {},
   "outputs": [],
   "source": [
    "var data = res.Select(val => val.InnerText);"
   ]
  },
  {
   "cell_type": "code",
   "execution_count": 8,
   "metadata": {},
   "outputs": [
    {
     "data": {
      "text/html": [
       "<table><thead><tr><th><i>index</i></th><th>value</th></tr></thead><tbody><tr><td>0</td><td><div class=\"dni-plaintext\">Analyste DATA H/F</div></td></tr><tr><td>1</td><td><div class=\"dni-plaintext\">Data analyst - H/F</div></td></tr><tr><td>2</td><td><div class=\"dni-plaintext\">nouveauData Analyst</div></td></tr><tr><td>3</td><td><div class=\"dni-plaintext\">#SARU Stage en Data analyst (h/f)</div></td></tr><tr><td>4</td><td><div class=\"dni-plaintext\">nouveauData Analyst risk H/F</div></td></tr><tr><td>5</td><td><div class=\"dni-plaintext\">Stagiaire Data Analyst (F/H)</div></td></tr><tr><td>6</td><td><div class=\"dni-plaintext\">Alternance - DATA ANALYST (H/F) - Nantes (44)</div></td></tr><tr><td>7</td><td><div class=\"dni-plaintext\">Business data analyst/Analyste de donn&#233;es</div></td></tr><tr><td>8</td><td><div class=\"dni-plaintext\">Data analyst</div></td></tr><tr><td>9</td><td><div class=\"dni-plaintext\">Data analyste charg&#233; de projets BI (H/F)</div></td></tr><tr><td>10</td><td><div class=\"dni-plaintext\">Alternance Data Analyst (F/H)</div></td></tr><tr><td>11</td><td><div class=\"dni-plaintext\">nouveauIT Data Analyst - Freelance</div></td></tr><tr><td>12</td><td><div class=\"dni-plaintext\">Data Analyst F/H</div></td></tr><tr><td>13</td><td><div class=\"dni-plaintext\">Data Scientist / Data Analyst F/H</div></td></tr><tr><td>14</td><td><div class=\"dni-plaintext\">Data Analyst F/H</div></td></tr></tbody></table>"
      ]
     },
     "execution_count": 8,
     "metadata": {},
     "output_type": "execute_result"
    }
   ],
   "source": [
    "data"
   ]
  },
  {
   "cell_type": "code",
   "execution_count": 9,
   "metadata": {},
   "outputs": [
    {
     "name": "stdout",
     "output_type": "stream",
     "text": [
      "15\n"
     ]
    }
   ],
   "source": [
    "Console.WriteLine(data.Count());"
   ]
  },
  {
   "cell_type": "code",
   "execution_count": 10,
   "metadata": {},
   "outputs": [],
   "source": [
    "var res = htmlDoc.DocumentNode.Descendants(\"h2\").\n",
    "    Where(node => node.GetAttributeValue(\"class\", \"\").\n",
    "          Contains(\"new\"));"
   ]
  },
  {
   "cell_type": "code",
   "execution_count": 11,
   "metadata": {},
   "outputs": [
    {
     "data": {
      "text/html": [
       "<table><thead><tr><th><i>index</i></th><th>Attributes</th><th>ChildNodes</th><th>Closed</th><th>ClosingAttributes</th><th>EndNode</th><th>FirstChild</th><th>HasAttributes</th><th>HasChildNodes</th><th>HasClosingAttributes</th><th>Id</th><th>InnerHtml</th><th>InnerText</th><th>LastChild</th><th>Line</th><th>LinePosition</th><th>InnerStartIndex</th><th>OuterStartIndex</th><th>InnerLength</th><th>OuterLength</th><th>Name</th><th>..</th></tr></thead><tbody><tr><td>0</td><td><div class=\"dni-plaintext\">[ HtmlAgilityPack.HtmlAttribute ]</div></td><td><div class=\"dni-plaintext\">[ HtmlAgilityPack.HtmlNode, HtmlAgilityPack.HtmlNode ]</div></td><td><div class=\"dni-plaintext\">True</div></td><td><div class=\"dni-plaintext\">[  ]</div></td><td><div class=\"dni-plaintext\">HtmlAgilityPack.HtmlNode</div></td><td><div class=\"dni-plaintext\">HtmlAgilityPack.HtmlNode</div></td><td><div class=\"dni-plaintext\">True</div></td><td><div class=\"dni-plaintext\">True</div></td><td><div class=\"dni-plaintext\">False</div></td><td></td><td><div class=\"dni-plaintext\">&lt;div class=&quot;new topLeft holisticNewBlue desktop&quot;&gt;&lt;span class=&quot;label&quot;&gt;nouveau&lt;/span&gt;&lt;/div&gt;&lt;span title=&quot;Data Analyst&quot;&gt;Data Analyst&lt;/span&gt;</div></td><td><div class=\"dni-plaintext\">nouveauData Analyst</div></td><td><div class=\"dni-plaintext\">HtmlAgilityPack.HtmlNode</div></td><td><div class=\"dni-plaintext\">756</div></td><td><div class=\"dni-plaintext\">2381</div></td><td><div class=\"dni-plaintext\">221790</div></td><td><div class=\"dni-plaintext\">221731</div></td><td><div class=\"dni-plaintext\">135</div></td><td><div class=\"dni-plaintext\">199</div></td><td><div class=\"dni-plaintext\">h2</div></td></tr><tr><td>1</td><td><div class=\"dni-plaintext\">[ HtmlAgilityPack.HtmlAttribute ]</div></td><td><div class=\"dni-plaintext\">[ HtmlAgilityPack.HtmlNode, HtmlAgilityPack.HtmlNode ]</div></td><td><div class=\"dni-plaintext\">True</div></td><td><div class=\"dni-plaintext\">[  ]</div></td><td><div class=\"dni-plaintext\">HtmlAgilityPack.HtmlNode</div></td><td><div class=\"dni-plaintext\">HtmlAgilityPack.HtmlNode</div></td><td><div class=\"dni-plaintext\">True</div></td><td><div class=\"dni-plaintext\">True</div></td><td><div class=\"dni-plaintext\">False</div></td><td></td><td><div class=\"dni-plaintext\">&lt;div class=&quot;new topLeft holisticNewBlue desktop&quot;&gt;&lt;span class=&quot;label&quot;&gt;nouveau&lt;/span&gt;&lt;/div&gt;&lt;span title=&quot;Data Analyst risk H/F&quot;&gt;Data Analyst risk H/F&lt;/span&gt;</div></td><td><div class=\"dni-plaintext\">nouveauData Analyst risk H/F</div></td><td><div class=\"dni-plaintext\">HtmlAgilityPack.HtmlNode</div></td><td><div class=\"dni-plaintext\">763</div></td><td><div class=\"dni-plaintext\">2434</div></td><td><div class=\"dni-plaintext\">229491</div></td><td><div class=\"dni-plaintext\">229432</div></td><td><div class=\"dni-plaintext\">153</div></td><td><div class=\"dni-plaintext\">217</div></td><td><div class=\"dni-plaintext\">h2</div></td></tr><tr><td>2</td><td><div class=\"dni-plaintext\">[ HtmlAgilityPack.HtmlAttribute ]</div></td><td><div class=\"dni-plaintext\">[ HtmlAgilityPack.HtmlNode, HtmlAgilityPack.HtmlNode ]</div></td><td><div class=\"dni-plaintext\">True</div></td><td><div class=\"dni-plaintext\">[  ]</div></td><td><div class=\"dni-plaintext\">HtmlAgilityPack.HtmlNode</div></td><td><div class=\"dni-plaintext\">HtmlAgilityPack.HtmlNode</div></td><td><div class=\"dni-plaintext\">True</div></td><td><div class=\"dni-plaintext\">True</div></td><td><div class=\"dni-plaintext\">False</div></td><td></td><td><div class=\"dni-plaintext\">&lt;div class=&quot;new topLeft holisticNewBlue desktop&quot;&gt;&lt;span class=&quot;label&quot;&gt;nouveau&lt;/span&gt;&lt;/div&gt;&lt;span title=&quot;IT Data Analyst - Freelance&quot;&gt;IT Data Analyst - Freelance&lt;/span&gt;</div></td><td><div class=\"dni-plaintext\">nouveauIT Data Analyst - Freelance</div></td><td><div class=\"dni-plaintext\">HtmlAgilityPack.HtmlNode</div></td><td><div class=\"dni-plaintext\">782</div></td><td><div class=\"dni-plaintext\">2500</div></td><td><div class=\"dni-plaintext\">259430</div></td><td><div class=\"dni-plaintext\">259371</div></td><td><div class=\"dni-plaintext\">165</div></td><td><div class=\"dni-plaintext\">229</div></td><td><div class=\"dni-plaintext\">h2</div></td></tr></tbody></table>"
      ]
     },
     "execution_count": 11,
     "metadata": {},
     "output_type": "execute_result"
    }
   ],
   "source": [
    "res"
   ]
  },
  {
   "cell_type": "code",
   "execution_count": null,
   "metadata": {},
   "outputs": [],
   "source": []
  },
  {
   "cell_type": "code",
   "execution_count": 12,
   "metadata": {},
   "outputs": [
    {
     "data": {
      "text/html": [
       "<table><thead><tr><th><i>index</i></th><th>value</th></tr></thead><tbody><tr><td>0</td><td><div class=\"dni-plaintext\">Analyste DATA H/FBaker Tilly STREGO3,9Angers (49) \n",
       " Vous &#234;tes un acteur dans les solutions d’extraction et de transformation des donn&#233;es ainsi que dans leurs moyens de diffusion (outils de type BI).\n",
       "Postedil y a 30+ jours&#183;plus...Afficher tout :  Emploi Baker Tilly STREGO - emploi AngersRechercher les salaires&#160;: Analyste DATA H/F  - Angers (49)Consulter les questions fr&#233;quentes sur Baker Tilly STREGO et leurs r&#233;ponses</div></td></tr><tr><td>1</td><td><div class=\"dni-plaintext\">Data analyst - H/FDalkia3,9Angers (49) \n",
       " Dalkia Froid Solutions, acteur majeur de la r&#233;frig&#233;ration, sp&#233;cialis&#233;e dans les services &#233;nerg&#233;tiques pour les process industriels et tertiaires, recrute un(e)…\n",
       "Postedil y a 14 jours&#183;plus...Afficher tout :  Emploi Dalkia - emploi AngersRechercher les salaires&#160;: Data analyst - H/F  - Angers (49)Consulter les questions fr&#233;quentes sur Dalkia et leurs r&#233;ponses</div></td></tr><tr><td>2</td><td><div class=\"dni-plaintext\">nouveauData AnalystAkeneoNantes (44)Candidature facile \n",
       " You like to create storytelling with data.\n",
       " Experience with data exposition tools as or DataBuildTool or Dataform,.\n",
       " Experience with Python or R,.\n",
       "Postedil y a 6 jours&#183;plus...Afficher tout :  Emploi Akeneo - emploi NantesRechercher les salaires&#160;: Data Analyst</div></td></tr><tr><td>3</td><td><div class=\"dni-plaintext\">#SARU Stage en Data analyst (h/f)Airbus4,244340 Nantes \n",
       " Etre l&#39;interface entre les fonctions, l’&#233;cosyst&#232;me data et les solutions requises.\n",
       " Dans le cadre d&#39;un cursus scolaire en formation initiale, vous recherchez un…\n",
       "Postedil y a 30+ jours&#183;plus...Afficher tout :  Emploi Airbus - emploi NantesRechercher les salaires&#160;: #SARU Stage en Data analyst (h/f)  - Nantes (44)Consulter les questions fr&#233;quentes sur Airbus et leurs r&#233;ponses</div></td></tr><tr><td>4</td><td><div class=\"dni-plaintext\">nouveauData Analyst risk H/FMy Money Bank3,4Nantes (44)Candidature facileEmployeur r&#233;actif \n",
       " Rattach&#233;(e) au responsable de portefeuilles, vous aurez le r&#244;le d&#39;un Data Analyst Risque dans cette &#233;quipe.\n",
       " En tant que Data Analyst Risque, vos missions sont…\n",
       "Postedil y a 4 jours&#183;plus...Afficher tout :  Emploi My Money Bank - emploi NantesRechercher les salaires&#160;: Data Analyst risk H/F  - Nantes (44)Consulter les questions fr&#233;quentes sur My Money Bank et leurs r&#233;ponses</div></td></tr><tr><td>5</td><td><div class=\"dni-plaintext\">Stagiaire Data Analyst (F/H)SUEZ3,5Nantes (44) \n",
       " Vous souhaitez pr&#233;parer un Bac+4/5 (&#233;cole ing&#233;nieur ou universit&#233;) dans le domaine des data sciences.\n",
       " Stagiaire Data Analyst (F/H).\n",
       "Postedil y a 30+ jours&#183;plus...Afficher tout :  Emploi SUEZ - emploi NantesRechercher les salaires&#160;: Stagiaire Data Analyst (F/H)  - Nantes (44)Consulter les questions fr&#233;quentes sur SUEZ et leurs r&#233;ponses</div></td></tr><tr><td>6</td><td><div class=\"dni-plaintext\">Alternance - DATA ANALYST (H/F) - Nantes (44)Banque Populaire Grand Ouest3,3Nantes (44) \n",
       " Nous recherchons un(e) Data Analyst / Scientist pour une alternance afin d&#39;accompagner notre &#233;quipe Etudes et Data Marketing dans leurs projets.\n",
       "Postedil y a 11 jours&#183;plus...Afficher tout :  Emploi Banque Populaire Grand Ouest - emploi NantesRechercher les salaires&#160;: Alternance - DATA ANALYST (H/F) - Nantes (44)  - Nantes (44)Consulter les questions fr&#233;quentes sur Banque Populaire Grand Ouest et leurs r&#233;ponses</div></td></tr><tr><td>7</td><td><div class=\"dni-plaintext\">Business data analyst/Analyste de donn&#233;esManitou Group3,544158 Ancenis \n",
       " Recueillir, extraire et collecter les donn&#233;es des diff&#233;rentes sources.\n",
       " Cr&#233;er de dashboards, proposer les KPIs et reporting des performances pour donner une…\n",
       "Postedil y a 30+ jours&#183;plus...Afficher tout :  Emploi Manitou Group - emploi AncenisRechercher les salaires&#160;: Business data analyst/Analyste de donn&#233;esConsulter les questions fr&#233;quentes sur Manitou Group et leurs r&#233;ponses</div></td></tr><tr><td>8</td><td><div class=\"dni-plaintext\">Data analystSTIMULAB44000 Nantes \n",
       " Une premi&#232;re exp&#233;rience en data analyse souhait&#233;e.\n",
       " Int&#233;gration d’une &#233;quipe pluri-disciplinaire de 8 personnes (techniques, scientiques, marketing…).\n",
       "Postedil y a 30+ jours&#183;plus...Afficher tout :  Emploi STIMULAB - emploi NantesRechercher les salaires&#160;: Data analyst  - Nantes (44)</div></td></tr><tr><td>9</td><td><div class=\"dni-plaintext\">Data analyste charg&#233; de projets BI (H/F)Terrena Innovation3,749000 AngersCandidature facile \n",
       " Suivez les &#233;volutions des bases de donn&#233;es,.\n",
       " Contribuez &#224; la strat&#233;gie digitale et aux projets &#224; long terme sur la valorisation des donn&#233;es.\n",
       "Postedil y a 30+ jours&#183;plus...Afficher tout :  Emploi Terrena Innovation - emploi AngersRechercher les salaires&#160;: Data analyste charg&#233; de projets BI (H/F)  - Angers (49)Consulter les questions fr&#233;quentes sur Terrena Innovation et leurs r&#233;ponses</div></td></tr><tr><td>10</td><td><div class=\"dni-plaintext\">Alternance Data Analyst (F/H)Caisse d&amp;#x27;Epargne Bretagne Pays de Loire3,3Orvault (44) \n",
       " Vous serez accompagn&#233;(e) par votre tuteur tout au long de votre alternance pour apprendre le m&#233;tier de Data Analyst.\n",
       "Postedil y a 27 jours&#183;plus...Afficher tout :  Emploi Caisse d&#39;Epargne Bretagne Pays de Loire - emploi OrvaultRechercher les salaires&#160;: Alternance Data Analyst (F/H)Consulter les questions fr&#233;quentes sur Caisse d&#39;Epargne Bretagne Pays de Loire et leurs r&#233;ponses</div></td></tr><tr><td>11</td><td><div class=\"dni-plaintext\">nouveauIT Data Analyst - FreelanceVeepee3,5T&#233;l&#233;travail in Nantes (44) \n",
       " Ability to manipulate large data sets and clean data.\n",
       " You will be integrated in a team composed of 2 senior data analysts who will form and frame you, and 2…\n",
       "Postedil y a 7 jours&#183;plus...Afficher tout :  Emploi Veepee - emploi NantesRechercher les salaires&#160;: IT Data Analyst - FreelanceConsulter les questions fr&#233;quentes sur Veepee et leurs r&#233;ponses</div></td></tr><tr><td>12</td><td><div class=\"dni-plaintext\">Data Analyst F/HBouygues Telecom3,8Hybrid remote in Nantes (44) \n",
       " Assurer la conception et r&#233;alisation de reporting (via data Viz Tableau).\n",
       " Enfin, vous serez le r&#233;f&#233;rent data pour l&#39;&#233;quipe T&#233;l&#233;vente dans tous les sujets du…\n",
       "Postedil y a 11 jours&#183;plus...Afficher tout :  Emploi Bouygues Telecom - emploi NantesRechercher les salaires&#160;: Data Analyst F/H  - Nantes (44)Consulter les questions fr&#233;quentes sur Bouygues Telecom et leurs r&#233;ponses</div></td></tr><tr><td>13</td><td><div class=\"dni-plaintext\">Data Scientist / Data Analyst F/HSIDERLOG CONSEILNantes (44) \n",
       " Vous travaillez en relation directe avec le client et int&#233;grez une &#233;quipe de consultants Siderlog.\n",
       " Collecter les besoins et assister &#224; la r&#233;daction de cahiers…\n",
       "Postedil y a 27 jours&#183;plus...Afficher tout :  Emploi SIDERLOG CONSEIL - emploi NantesRechercher les salaires&#160;: Data Scientist / Data Analyst F/H  - Nantes (44)</div></td></tr><tr><td>14</td><td><div class=\"dni-plaintext\">Data Analyst F/HJEMS OuestSaint-Herblain (44) \n",
       " 33 - 50 k€ brut annuel.\n",
       " Accroître la connaissance de la clientèle d’une entreprise, il conduit des études sur les bases de données, suit les outils…\n",
       "Postedil y a 27 jours&#183;plus...Afficher tout :  Emploi JEMS Ouest - emploi Saint-HerblainRechercher les salaires&#160;: Data Analyst F/H  - Saint-Herblain (44)</div></td></tr></tbody></table>"
      ]
     },
     "execution_count": 12,
     "metadata": {},
     "output_type": "execute_result"
    }
   ],
   "source": [
    "var res = htmlDoc.DocumentNode.Descendants(\"div\").\n",
    "    Where(node => node.GetAttributeValue(\"class\", \"\").\n",
    "          Contains(\"job_seen_beacon\"));\n",
    "var data = res.Select(val => val.InnerText);\n",
    "data"
   ]
  },
  {
   "cell_type": "code",
   "execution_count": 13,
   "metadata": {},
   "outputs": [
    {
     "name": "stderr",
     "output_type": "stream",
     "text": [
      "\n",
      "(1,11): warning CS1701: En supposant que la référence d'assembly 'HtmlAgilityPack, Version=1.4.9.0, Culture=neutral, PublicKeyToken=bd319b19eaf3b43a' utilisée par 'HtmlAgilityPack.CssSelectors' correspond à l'identité 'HtmlAgilityPack, Version=1.11.42.0, Culture=neutral, PublicKeyToken=bd319b19eaf3b43a' de 'HtmlAgilityPack', il se peut que vous deviez fournir une stratégie runtime\n",
      "\n"
     ]
    },
    {
     "data": {
      "text/html": [
       "<table><thead><tr><th><i>index</i></th><th>value</th></tr></thead><tbody><tr><td>0</td><td><div class=\"dni-plaintext\">Analyste DATA H/F</div></td></tr><tr><td>1</td><td><div class=\"dni-plaintext\">Data analyst - H/F</div></td></tr><tr><td>2</td><td><div class=\"dni-plaintext\">nouveauData Analyst</div></td></tr><tr><td>3</td><td><div class=\"dni-plaintext\">#SARU Stage en Data analyst (h/f)</div></td></tr><tr><td>4</td><td><div class=\"dni-plaintext\">nouveauData Analyst risk H/F</div></td></tr><tr><td>5</td><td><div class=\"dni-plaintext\">Stagiaire Data Analyst (F/H)</div></td></tr><tr><td>6</td><td><div class=\"dni-plaintext\">Alternance - DATA ANALYST (H/F) - Nantes (44)</div></td></tr><tr><td>7</td><td><div class=\"dni-plaintext\">Business data analyst/Analyste de donn&#233;es</div></td></tr><tr><td>8</td><td><div class=\"dni-plaintext\">Data analyst</div></td></tr><tr><td>9</td><td><div class=\"dni-plaintext\">Data analyste charg&#233; de projets BI (H/F)</div></td></tr><tr><td>10</td><td><div class=\"dni-plaintext\">Alternance Data Analyst (F/H)</div></td></tr><tr><td>11</td><td><div class=\"dni-plaintext\">nouveauIT Data Analyst - Freelance</div></td></tr><tr><td>12</td><td><div class=\"dni-plaintext\">Data Analyst F/H</div></td></tr><tr><td>13</td><td><div class=\"dni-plaintext\">Data Scientist / Data Analyst F/H</div></td></tr><tr><td>14</td><td><div class=\"dni-plaintext\">Data Analyst F/H</div></td></tr></tbody></table>"
      ]
     },
     "execution_count": 13,
     "metadata": {},
     "output_type": "execute_result"
    }
   ],
   "source": [
    "var res = htmlDoc.DocumentNode.QuerySelectorAll(\"div .jobTitle\");\n",
    "var data = res.Select(val => val.InnerText);\n",
    "data"
   ]
  },
  {
   "cell_type": "code",
   "execution_count": 14,
   "metadata": {},
   "outputs": [
    {
     "name": "stderr",
     "output_type": "stream",
     "text": [
      "\n",
      "(2,11): warning CS1701: En supposant que la référence d'assembly 'HtmlAgilityPack, Version=1.4.9.0, Culture=neutral, PublicKeyToken=bd319b19eaf3b43a' utilisée par 'HtmlAgilityPack.CssSelectors' correspond à l'identité 'HtmlAgilityPack, Version=1.11.42.0, Culture=neutral, PublicKeyToken=bd319b19eaf3b43a' de 'HtmlAgilityPack', il se peut que vous deviez fournir une stratégie runtime\n",
      "\n"
     ]
    },
    {
     "data": {
      "text/html": [
       "<table><thead><tr><th><i>index</i></th><th>value</th></tr></thead><tbody><tr><td>0</td><td><div class=\"dni-plaintext\">Baker Tilly STREGO</div></td></tr><tr><td>1</td><td><div class=\"dni-plaintext\">Dalkia</div></td></tr><tr><td>2</td><td><div class=\"dni-plaintext\">Airbus</div></td></tr><tr><td>3</td><td><div class=\"dni-plaintext\">My Money Bank</div></td></tr><tr><td>4</td><td><div class=\"dni-plaintext\">SUEZ</div></td></tr><tr><td>5</td><td><div class=\"dni-plaintext\">Banque Populaire Grand Ouest</div></td></tr><tr><td>6</td><td><div class=\"dni-plaintext\">Manitou Group</div></td></tr><tr><td>7</td><td><div class=\"dni-plaintext\">Terrena Innovation</div></td></tr><tr><td>8</td><td><div class=\"dni-plaintext\">Caisse d&amp;#x27;Epargne Bretagne Pays de Loire</div></td></tr><tr><td>9</td><td><div class=\"dni-plaintext\">Veepee</div></td></tr><tr><td>10</td><td><div class=\"dni-plaintext\">Bouygues Telecom</div></td></tr></tbody></table>"
      ]
     },
     "execution_count": 14,
     "metadata": {},
     "output_type": "execute_result"
    }
   ],
   "source": [
    "// turnstileLink companyOverviewLink\n",
    "var res = htmlDoc.DocumentNode.QuerySelectorAll(\"div .turnstileLink\");\n",
    "var data = res.Select(val => val.InnerText);\n",
    "data"
   ]
  },
  {
   "cell_type": "code",
   "execution_count": null,
   "metadata": {},
   "outputs": [],
   "source": [
    "var res = htmlDoc.DocumentNode.Descendants(\"span\").\n",
    "    Where(node => node.GetAttributeValue(\"class\", \"\").\n",
    "          Contains(\"companyName\"));\n",
    "var data = res.Select(val => val.InnerText);\n",
    "data"
   ]
  },
  {
   "cell_type": "code",
   "execution_count": null,
   "metadata": {},
   "outputs": [],
   "source": []
  },
  {
   "cell_type": "code",
   "execution_count": 17,
   "metadata": {},
   "outputs": [
    {
     "name": "stderr",
     "output_type": "stream",
     "text": [
      "\n",
      "(6,30): error CS0246: Le nom de type ou d'espace de noms 'JobOffser' est introuvable (vous manque-t-il une directive using ou une référence d'assembly ?)\n",
      "\n",
      "(8,19): error CS0246: Le nom de type ou d'espace de noms 'Indeed' est introuvable (vous manque-t-il une directive using ou une référence d'assembly ?)\n",
      "\n",
      "(1,24): error CS0161: 'ExtractData(string)' : les chemins du code ne retournent pas tous une valeur\n",
      "\n"
     ]
    },
    {
     "ename": "Cell not executed",
     "evalue": "compilation error",
     "output_type": "error",
     "traceback": []
    }
   ],
   "source": [
    "public static JobOffer ExtractData(string html) {\n",
    "    \n",
    "    var htmlDoc = new HtmlDocument();\n",
    "    htmlDoc.LoadHtml(html);\n",
    "    \n",
    "    var JobOffers = new List<JobOffser>();\n",
    "    \n",
    "    var Job = new Indeed.JobOffer();\n",
    "    \n",
    "}"
   ]
  },
  {
   "cell_type": "code",
   "execution_count": 18,
   "metadata": {},
   "outputs": [],
   "source": [
    "res = htmlDoc.DocumentNode.Descendants(\"td\").\n",
    "    Where(node => node.GetAttributeValue(\"class\", \"\").Contains(\"resultContent\")).ToList();"
   ]
  },
  {
   "cell_type": "code",
   "execution_count": null,
   "metadata": {},
   "outputs": [],
   "source": []
  }
 ],
 "metadata": {
  "kernelspec": {
   "display_name": ".NET (C#)",
   "language": "C#",
   "name": ".net-csharp"
  },
  "language_info": {
   "file_extension": ".cs",
   "mimetype": "text/x-csharp",
   "name": "C#",
   "pygments_lexer": "csharp",
   "version": "8.0"
  }
 },
 "nbformat": 4,
 "nbformat_minor": 5
}
