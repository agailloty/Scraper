{
 "cells": [
  {
   "cell_type": "code",
   "execution_count": 1,
   "id": "4422c2e6",
   "metadata": {},
   "outputs": [
    {
     "data": {
      "text/html": [
       "\r\n",
       "<div>\r\n",
       "    <div id='dotnet-interactive-this-cell-13956.Microsoft.DotNet.Interactive.Http.HttpPort' style='display: none'>\r\n",
       "        The below script needs to be able to find the current output cell; this is an easy method to get it.\r\n",
       "    </div>\r\n",
       "    <script type='text/javascript'>\r\n",
       "async function probeAddresses(probingAddresses) {\r\n",
       "    function timeout(ms, promise) {\r\n",
       "        return new Promise(function (resolve, reject) {\r\n",
       "            setTimeout(function () {\r\n",
       "                reject(new Error('timeout'))\r\n",
       "            }, ms)\r\n",
       "            promise.then(resolve, reject)\r\n",
       "        })\r\n",
       "    }\r\n",
       "\r\n",
       "    if (Array.isArray(probingAddresses)) {\r\n",
       "        for (let i = 0; i < probingAddresses.length; i++) {\r\n",
       "\r\n",
       "            let rootUrl = probingAddresses[i];\r\n",
       "\r\n",
       "            if (!rootUrl.endsWith('/')) {\r\n",
       "                rootUrl = `${rootUrl}/`;\r\n",
       "            }\r\n",
       "\r\n",
       "            try {\r\n",
       "                let response = await timeout(1000, fetch(`${rootUrl}discovery`, {\r\n",
       "                    method: 'POST',\r\n",
       "                    cache: 'no-cache',\r\n",
       "                    mode: 'cors',\r\n",
       "                    timeout: 1000,\r\n",
       "                    headers: {\r\n",
       "                        'Content-Type': 'text/plain'\r\n",
       "                    },\r\n",
       "                    body: probingAddresses[i]\r\n",
       "                }));\r\n",
       "\r\n",
       "                if (response.status == 200) {\r\n",
       "                    return rootUrl;\r\n",
       "                }\r\n",
       "            }\r\n",
       "            catch (e) { }\r\n",
       "        }\r\n",
       "    }\r\n",
       "}\r\n",
       "\r\n",
       "function loadDotnetInteractiveApi() {\r\n",
       "    probeAddresses([\"http://192.168.56.1:1000/\", \"http://192.168.1.66:1000/\", \"http://192.168.137.1:1000/\", \"http://172.29.192.1:1000/\", \"http://172.23.96.1:1000/\", \"http://172.24.176.1:1000/\", \"http://172.17.80.1:1000/\", \"http://127.0.0.1:1000/\"])\r\n",
       "        .then((root) => {\r\n",
       "        // use probing to find host url and api resources\r\n",
       "        // load interactive helpers and language services\r\n",
       "        let dotnetInteractiveRequire = require.config({\r\n",
       "        context: '13956.Microsoft.DotNet.Interactive.Http.HttpPort',\r\n",
       "                paths:\r\n",
       "            {\r\n",
       "                'dotnet-interactive': `${root}resources`\r\n",
       "                }\r\n",
       "        }) || require;\r\n",
       "\r\n",
       "            window.dotnetInteractiveRequire = dotnetInteractiveRequire;\r\n",
       "\r\n",
       "            window.configureRequireFromExtension = function(extensionName, extensionCacheBuster) {\r\n",
       "                let paths = {};\r\n",
       "                paths[extensionName] = `${root}extensions/${extensionName}/resources/`;\r\n",
       "                \r\n",
       "                let internalRequire = require.config({\r\n",
       "                    context: extensionCacheBuster,\r\n",
       "                    paths: paths,\r\n",
       "                    urlArgs: `cacheBuster=${extensionCacheBuster}`\r\n",
       "                    }) || require;\r\n",
       "\r\n",
       "                return internalRequire\r\n",
       "            };\r\n",
       "        \r\n",
       "            dotnetInteractiveRequire([\r\n",
       "                    'dotnet-interactive/dotnet-interactive'\r\n",
       "                ],\r\n",
       "                function (dotnet) {\r\n",
       "                    dotnet.init(window);\r\n",
       "                },\r\n",
       "                function (error) {\r\n",
       "                    console.log(error);\r\n",
       "                }\r\n",
       "            );\r\n",
       "        })\r\n",
       "        .catch(error => {console.log(error);});\r\n",
       "    }\r\n",
       "\r\n",
       "// ensure `require` is available globally\r\n",
       "if ((typeof(require) !==  typeof(Function)) || (typeof(require.config) !== typeof(Function))) {\r\n",
       "    let require_script = document.createElement('script');\r\n",
       "    require_script.setAttribute('src', 'https://cdnjs.cloudflare.com/ajax/libs/require.js/2.3.6/require.min.js');\r\n",
       "    require_script.setAttribute('type', 'text/javascript');\r\n",
       "    \r\n",
       "    \r\n",
       "    require_script.onload = function() {\r\n",
       "        loadDotnetInteractiveApi();\r\n",
       "    };\r\n",
       "\r\n",
       "    document.getElementsByTagName('head')[0].appendChild(require_script);\r\n",
       "}\r\n",
       "else {\r\n",
       "    loadDotnetInteractiveApi();\r\n",
       "}\r\n",
       "\r\n",
       "    </script>\r\n",
       "</div>"
      ]
     },
     "metadata": {},
     "output_type": "display_data"
    },
    {
     "data": {
      "text/plain": [
       "Installed package HtmlAgilityPack version 1.11.42"
      ]
     },
     "metadata": {},
     "output_type": "display_data"
    },
    {
     "data": {
      "text/plain": [
       "Installed package HtmlAgilityPack.CssSelectors version 1.0.2"
      ]
     },
     "metadata": {},
     "output_type": "display_data"
    }
   ],
   "source": [
    "// Adding some packages\n",
    "#r \"nuget:HtmlAgilityPack\"\n",
    "#r \"nuget:HtmlAgilityPack.CssSelectors\""
   ]
  },
  {
   "cell_type": "markdown",
   "id": "832117ff",
   "metadata": {},
   "source": [
    "# URL maker"
   ]
  },
  {
   "cell_type": "code",
   "execution_count": 2,
   "id": "67aeb441",
   "metadata": {},
   "outputs": [
    {
     "data": {
      "text/html": [
       "<div class=\"dni-plaintext\">400</div>"
      ]
     },
     "execution_count": 2,
     "metadata": {},
     "output_type": "execute_result"
    }
   ],
   "source": [
    "400"
   ]
  },
  {
   "cell_type": "code",
   "execution_count": 3,
   "id": "c2e01e49",
   "metadata": {},
   "outputs": [
    {
     "name": "stderr",
     "output_type": "stream",
     "text": [
      "\r\n",
      "(5,24): error CS1002: ; attendu\r\n",
      "\r\n",
      "(11,113): error CS1002: ; attendu\r\n",
      "\r\n"
     ]
    },
    {
     "ename": "Cell not executed",
     "evalue": "compilation error",
     "output_type": "error",
     "traceback": []
    }
   ],
   "source": [
    "using System.Web;\n",
    "\n",
    "List<string> MakeUrls(string query, int maxValue, string location = \"France\") {\n",
    "    var urls = new List<string>();\n",
    "    string baseUrl = \"\"\n",
    "    if (maxValue < 50) {\n",
    "        maxValue = 50;\n",
    "    }\n",
    "    \n",
    "    query = HttpUtility.UrlEncode(query);\n",
    "    string url = $\"https://fr.indeed.com/emplois?as_and={query}&limit={maxValue}&start={currStart}&l={location}\"\n",
    "    return urls;\n",
    "}"
   ]
  },
  {
   "cell_type": "code",
   "execution_count": 28,
   "id": "a3f4e330",
   "metadata": {},
   "outputs": [
    {
     "data": {
      "text/plain": [
       "hello+you+%c3%a9+%c3%a7a"
      ]
     },
     "execution_count": 28,
     "metadata": {},
     "output_type": "execute_result"
    }
   ],
   "source": [
    "using System.Web;\n",
    "HttpUtility.UrlEncode(\"hello you é ça\")"
   ]
  },
  {
   "cell_type": "code",
   "execution_count": 4,
   "id": "17a24279",
   "metadata": {},
   "outputs": [],
   "source": [
    "using System;\n",
    "using System.Linq;\n",
    "public class JobOffer\n",
    "{\n",
    "    public string Title { get; set; }\n",
    "    public string Company { get; set; }\n",
    "    public string Description { get; set; }\n",
    "    public string City { get; set; }\n",
    "    private string _nbDays {get; set;}\n",
    "    public string DaysAgo\n",
    "    {\n",
    "        get => _nbDays;\n",
    "        set {\n",
    "            if (value.Contains(\"Il y a\")) {\n",
    "                _nbDays = string.Join(\"\", value.ToCharArray().Where(Char.IsDigit));\n",
    "            } \n",
    "            else {\n",
    "                _nbDays = \"0\";\n",
    "            }\n",
    "        }\n",
    "    }\n",
    "    public DateTime Published \n",
    "    {get => DateTime.Now.AddDays(-Int32.Parse(DaysAgo));}\n",
    "}"
   ]
  },
  {
   "cell_type": "code",
   "execution_count": 16,
   "id": "6c40b415",
   "metadata": {},
   "outputs": [],
   "source": [
    "using System.Net;\n",
    "using System.Net.Http;\n",
    "using System.Threading.Tasks;\n",
    "using System.Collections.Generic;\n",
    "//using Persistence;\n",
    "using HtmlAgilityPack;\n",
    "\n",
    "public static async Task<string> GetUrl(string url)\n",
    "{\n",
    "    HttpClient client = new HttpClient();\n",
    "    ServicePointManager.SecurityProtocol = SecurityProtocolType.Tls13;\n",
    "    client.DefaultRequestHeaders.Accept.Clear();\n",
    "    var response = client.GetStringAsync(url);\n",
    "    return await response;\n",
    "}"
   ]
  },
  {
   "cell_type": "code",
   "execution_count": 7,
   "id": "1157f37c",
   "metadata": {},
   "outputs": [],
   "source": [
    "using System.Net;\n",
    "using System.Net.Http;\n",
    "public static string GetUrl(string url)\n",
    "        {\n",
    "            HttpClient client = new HttpClient();\n",
    "            ServicePointManager.SecurityProtocol = SecurityProtocolType.Tls13;\n",
    "            client.DefaultRequestHeaders.Accept.Clear();\n",
    "            var response = client.GetStringAsync(url).Result;\n",
    "            return response;\n",
    "        }"
   ]
  },
  {
   "cell_type": "code",
   "execution_count": 9,
   "id": "b459f2ed",
   "metadata": {},
   "outputs": [],
   "source": [
    "var response = GetUrl(\"https://fr.indeed.com/jobs?q=data%20analyst&l=Pays%20de%20la%20Loire&vjk=180d9bf609f96043\");"
   ]
  },
  {
   "cell_type": "code",
   "execution_count": 19,
   "id": "6925cf24",
   "metadata": {},
   "outputs": [],
   "source": [
    "var htmlDoc = new HtmlDocument();\n",
    "//response = Encoding.UTF8.GetString(response);\n",
    "htmlDoc.LoadHtml(response);"
   ]
  },
  {
   "cell_type": "code",
   "execution_count": 20,
   "id": "499d814c",
   "metadata": {},
   "outputs": [],
   "source": [
    "var res = htmlDoc.DocumentNode.Descendants(\"h2\").\n",
    "    Where(node => node.GetAttributeValue(\"class\", \"\").\n",
    "          Contains(\"jobTitle\") || node.GetAttributeValue(\"class\", \"\").\n",
    "          Contains(\"new\"));"
   ]
  },
  {
   "cell_type": "code",
   "execution_count": 21,
   "id": "539d0b70",
   "metadata": {},
   "outputs": [],
   "source": [
    "var data = res.Select(val => val.InnerText);"
   ]
  },
  {
   "cell_type": "code",
   "execution_count": 22,
   "id": "e8569095",
   "metadata": {},
   "outputs": [
    {
     "data": {
      "text/html": [
       "<table><thead><tr><th><i>index</i></th><th>value</th></tr></thead><tbody><tr><td>0</td><td><div class=\"dni-plaintext\">Stagiaire Data Analyst (F/H)</div></td></tr><tr><td>1</td><td><div class=\"dni-plaintext\">nouveauData Analyst H/F – Alternance / Stage</div></td></tr><tr><td>2</td><td><div class=\"dni-plaintext\">Business data analyst/Analyste de donn&#233;es</div></td></tr><tr><td>3</td><td><div class=\"dni-plaintext\">Data analyst</div></td></tr><tr><td>4</td><td><div class=\"dni-plaintext\">Data Analyst - (F/H)</div></td></tr><tr><td>5</td><td><div class=\"dni-plaintext\">Alternance Data Analyst (F/H)</div></td></tr><tr><td>6</td><td><div class=\"dni-plaintext\">nouveauData Analyst Marketing F/H</div></td></tr><tr><td>7</td><td><div class=\"dni-plaintext\">Data Analyst</div></td></tr><tr><td>8</td><td><div class=\"dni-plaintext\">nouveauDATA ANALYST PYTHON - H/F</div></td></tr><tr><td>9</td><td><div class=\"dni-plaintext\">Alternance - DATA ANALYST (H/F) - Nantes (44)</div></td></tr><tr><td>10</td><td><div class=\"dni-plaintext\">Data analyst - H/F</div></td></tr><tr><td>11</td><td><div class=\"dni-plaintext\">Data Analyst (F/H)</div></td></tr><tr><td>12</td><td><div class=\"dni-plaintext\">nouveauData Analyst Marketing H/F</div></td></tr><tr><td>13</td><td><div class=\"dni-plaintext\">Data Analyst risk H/F</div></td></tr><tr><td>14</td><td><div class=\"dni-plaintext\">Data analyst (H/F)</div></td></tr></tbody></table>"
      ]
     },
     "execution_count": 22,
     "metadata": {},
     "output_type": "execute_result"
    }
   ],
   "source": [
    "data"
   ]
  },
  {
   "cell_type": "code",
   "execution_count": 13,
   "id": "f899a59e",
   "metadata": {},
   "outputs": [
    {
     "name": "stdout",
     "output_type": "stream",
     "text": [
      "0\r\n"
     ]
    }
   ],
   "source": [
    "Console.WriteLine(data.Count());"
   ]
  },
  {
   "cell_type": "code",
   "execution_count": null,
   "id": "0c942848",
   "metadata": {},
   "outputs": [],
   "source": []
  },
  {
   "cell_type": "code",
   "execution_count": 14,
   "id": "6854913e",
   "metadata": {
    "jupyter": {
     "outputs_hidden": true
    }
   },
   "outputs": [
    {
     "data": {
      "text/html": [
       "<i>(empty)</i>"
      ]
     },
     "execution_count": 14,
     "metadata": {},
     "output_type": "execute_result"
    }
   ],
   "source": [
    "var res = htmlDoc.DocumentNode.Descendants(\"div\").\n",
    "    Where(node => node.GetAttributeValue(\"class\", \"\").\n",
    "          Contains(\"job_seen_beacon\"));\n",
    "var data = res.Select(val => val.InnerHtml);\n",
    "data"
   ]
  },
  {
   "cell_type": "code",
   "execution_count": 16,
   "id": "b245955a",
   "metadata": {},
   "outputs": [],
   "source": [
    "// turnstileLink companyOverviewLink\n",
    "//var res = htmlDoc.DocumentNode.QuerySelectorAll(\"div .turnstileLink\");\n",
    "//var data = res.Select(val => val.InnerText);\n",
    "//data"
   ]
  },
  {
   "cell_type": "code",
   "execution_count": 48,
   "id": "cd93be0d",
   "metadata": {},
   "outputs": [
    {
     "name": "stderr",
     "output_type": "stream",
     "text": [
      "\n",
      "(1,1): error CS0201: Seuls une assignation, un appel, un incrément, un décrément et des expressions d'objet await et new peuvent être utilisés comme instruction\n",
      "\n"
     ]
    },
    {
     "ename": "Cell not executed",
     "evalue": "compilation error",
     "output_type": "error",
     "traceback": []
    }
   ],
   "source": [
    "GetByClass(\"div\", \"class\", \"job_seen_beacon\").Count;"
   ]
  },
  {
   "cell_type": "code",
   "execution_count": 38,
   "id": "13e316fe",
   "metadata": {},
   "outputs": [],
   "source": [
    "public List<string> GetByClass(string descendant, string attribute, string className) {\n",
    "    var res = htmlDoc.DocumentNode.Descendants(descendant).\n",
    "    Where(node => node.GetAttributeValue(attribute, \"\").\n",
    "          Contains(className));\n",
    "    return res.Select(val => val.InnerText).ToList();\n",
    "}"
   ]
  },
  {
   "cell_type": "code",
   "execution_count": 28,
   "id": "ebdd9ac7",
   "metadata": {},
   "outputs": [
    {
     "data": {
      "text/html": [
       "<table><thead><tr><th><i>index</i></th><th>value</th></tr></thead><tbody><tr><td>0</td><td><div class=\"dni-plaintext\"> \n",
       " Dalkia Froid Solutions, acteur majeur de la r&#233;frig&#233;ration, sp&#233;cialis&#233;e dans les services &#233;nerg&#233;tiques pour les process industriels et tertiaires, recrute un(e)…\n",
       "</div></td></tr><tr><td>1</td><td><div class=\"dni-plaintext\"> \n",
       " Vous souhaitez pr&#233;parer un Bac+4/5 (&#233;cole ing&#233;nieur ou universit&#233;) dans le domaine des data sciences.\n",
       " Stagiaire Data Analyst (F/H).\n",
       "</div></td></tr><tr><td>2</td><td><div class=\"dni-plaintext\"> \n",
       " Vous serez accompagn&#233;(e) par votre tuteur tout au long de votre alternance pour apprendre le m&#233;tier de Data Analyst.\n",
       "</div></td></tr><tr><td>3</td><td><div class=\"dni-plaintext\"> \n",
       " Etre l&#39;interface entre les fonctions, l’&#233;cosyst&#232;me data et les solutions requises.\n",
       " Dans le cadre d&#39;un cursus scolaire en formation initiale, vous recherchez un…\n",
       "</div></td></tr><tr><td>4</td><td><div class=\"dni-plaintext\"> \n",
       " You like to create storytelling with data.\n",
       " Experience with data exposition tools as or DataBuildTool or Dataform,.\n",
       " Experience with Python or R,.\n",
       "</div></td></tr><tr><td>5</td><td><div class=\"dni-plaintext\"> \n",
       " Nous recherchons un(e) Data Analyst / Scientist pour une alternance afin d&#39;accompagner notre &#233;quipe Etudes et Data Marketing dans leurs projets.\n",
       "</div></td></tr><tr><td>6</td><td><div class=\"dni-plaintext\"> \n",
       " Vous &#234;tes un acteur dans les solutions d’extraction et de transformation des donn&#233;es ainsi que dans leurs moyens de diffusion (outils de type BI).\n",
       "</div></td></tr><tr><td>7</td><td><div class=\"dni-plaintext\"> \n",
       " Passionn&#233;.e par la data, vous aimez faire parler les donn&#233;es pour en extraire le meilleur au service de vos clients internes.\n",
       "</div></td></tr><tr><td>8</td><td><div class=\"dni-plaintext\"> \n",
       " Rattach&#233;(e) au responsable de portefeuilles, vous aurez le r&#244;le d&#39;un Data Analyst Risque dans cette &#233;quipe.\n",
       " En tant que Data Analyst Risque, vos missions sont…\n",
       "</div></td></tr><tr><td>9</td><td><div class=\"dni-plaintext\"> \n",
       " Recueillir, extraire et collecter les donn&#233;es des diff&#233;rentes sources.\n",
       " Cr&#233;er de dashboards, proposer les KPIs et reporting des performances pour donner une…\n",
       "</div></td></tr><tr><td>10</td><td><div class=\"dni-plaintext\"> \n",
       " Une premi&#232;re exp&#233;rience en data analyse souhait&#233;e.\n",
       " Int&#233;gration d’une &#233;quipe pluri-disciplinaire de 8 personnes (techniques, scientiques, marketing…).\n",
       "</div></td></tr><tr><td>11</td><td><div class=\"dni-plaintext\"> \n",
       " Assurer la conception et r&#233;alisation de reporting (via data Viz Tableau).\n",
       " Enfin, vous serez le r&#233;f&#233;rent data pour l&#39;&#233;quipe T&#233;l&#233;vente dans tous les sujets du…\n",
       "</div></td></tr><tr><td>12</td><td><div class=\"dni-plaintext\"> \n",
       " Accompagner nos data analystes plus junior dans leur mont&#233;e en comp&#233;tence ;\n",
       " Participer &#224; des &#233;v&#232;nements autour de la data (Meetups, REX, conf&#233;rences…) ;\n",
       "</div></td></tr><tr><td>13</td><td><div class=\"dni-plaintext\"> \n",
       " De formation sup&#233;rieure en Ing&#233;nierie informatique (Bac+4 / Cursus d’Ing&#233;nieur), vous avez acquis des exp&#233;riences significatives notamment en Data Analyse et/ou…\n",
       "</div></td></tr><tr><td>14</td><td><div class=\"dni-plaintext\"> \n",
       " Collecter les besoins et assister &#224; la r&#233;daction de cahiers des charges aupr&#232;s des directions fonctionnelles (outils, mod&#232;les, choix d’indicateurs, ).\n",
       "</div></td></tr></tbody></table>"
      ]
     },
     "execution_count": 28,
     "metadata": {},
     "output_type": "execute_result"
    }
   ],
   "source": [
    "GetByClass(\"div\", \"class\", \"job-snippet\")"
   ]
  },
  {
   "cell_type": "code",
   "execution_count": 29,
   "id": "344f45a9",
   "metadata": {},
   "outputs": [
    {
     "data": {
      "text/html": [
       "<table><thead><tr><th><i>index</i></th><th>value</th></tr></thead><tbody><tr><td>0</td><td><div class=\"dni-plaintext\">Postedil y a 15 jours</div></td></tr><tr><td>1</td><td><div class=\"dni-plaintext\">Postedil y a 30+ jours</div></td></tr><tr><td>2</td><td><div class=\"dni-plaintext\">Postedil y a 28 jours</div></td></tr><tr><td>3</td><td><div class=\"dni-plaintext\">Postedil y a 30+ jours</div></td></tr><tr><td>4</td><td><div class=\"dni-plaintext\">Postedil y a 7 jours</div></td></tr><tr><td>5</td><td><div class=\"dni-plaintext\">Postedil y a 11 jours</div></td></tr><tr><td>6</td><td><div class=\"dni-plaintext\">Postedil y a 30+ jours</div></td></tr><tr><td>7</td><td><div class=\"dni-plaintext\">Postedil y a 30+ jours</div></td></tr><tr><td>8</td><td><div class=\"dni-plaintext\">Postedil y a 4 jours</div></td></tr><tr><td>9</td><td><div class=\"dni-plaintext\">Postedil y a 30+ jours</div></td></tr><tr><td>10</td><td><div class=\"dni-plaintext\">Postedil y a 30+ jours</div></td></tr><tr><td>11</td><td><div class=\"dni-plaintext\">Postedil y a 11 jours</div></td></tr><tr><td>12</td><td><div class=\"dni-plaintext\">Postedil y a 30+ jours</div></td></tr><tr><td>13</td><td><div class=\"dni-plaintext\">Postedil y a 30+ jours</div></td></tr><tr><td>14</td><td><div class=\"dni-plaintext\">PostedAujourd&amp;#x27;hui</div></td></tr></tbody></table>"
      ]
     },
     "execution_count": 29,
     "metadata": {},
     "output_type": "execute_result"
    }
   ],
   "source": [
    "GetByClass(\"span\", \"class\", \"date\")"
   ]
  },
  {
   "cell_type": "code",
   "execution_count": 1,
   "id": "35001e71",
   "metadata": {},
   "outputs": [
    {
     "data": {
      "text/html": [
       "\r\n",
       "<div>\r\n",
       "    <div id='dotnet-interactive-this-cell-8804.Microsoft.DotNet.Interactive.Http.HttpPort' style='display: none'>\r\n",
       "        The below script needs to be able to find the current output cell; this is an easy method to get it.\r\n",
       "    </div>\r\n",
       "    <script type='text/javascript'>\r\n",
       "async function probeAddresses(probingAddresses) {\r\n",
       "    function timeout(ms, promise) {\r\n",
       "        return new Promise(function (resolve, reject) {\r\n",
       "            setTimeout(function () {\r\n",
       "                reject(new Error('timeout'))\r\n",
       "            }, ms)\r\n",
       "            promise.then(resolve, reject)\r\n",
       "        })\r\n",
       "    }\r\n",
       "\r\n",
       "    if (Array.isArray(probingAddresses)) {\r\n",
       "        for (let i = 0; i < probingAddresses.length; i++) {\r\n",
       "\r\n",
       "            let rootUrl = probingAddresses[i];\r\n",
       "\r\n",
       "            if (!rootUrl.endsWith('/')) {\r\n",
       "                rootUrl = `${rootUrl}/`;\r\n",
       "            }\r\n",
       "\r\n",
       "            try {\r\n",
       "                let response = await timeout(1000, fetch(`${rootUrl}discovery`, {\r\n",
       "                    method: 'POST',\r\n",
       "                    cache: 'no-cache',\r\n",
       "                    mode: 'cors',\r\n",
       "                    timeout: 1000,\r\n",
       "                    headers: {\r\n",
       "                        'Content-Type': 'text/plain'\r\n",
       "                    },\r\n",
       "                    body: probingAddresses[i]\r\n",
       "                }));\r\n",
       "\r\n",
       "                if (response.status == 200) {\r\n",
       "                    return rootUrl;\r\n",
       "                }\r\n",
       "            }\r\n",
       "            catch (e) { }\r\n",
       "        }\r\n",
       "    }\r\n",
       "}\r\n",
       "\r\n",
       "function loadDotnetInteractiveApi() {\r\n",
       "    probeAddresses([\"http://172.24.176.1:1000/\", \"http://192.168.56.1:1000/\", \"http://192.168.1.197:1000/\", \"http://192.168.137.1:1000/\", \"http://172.20.128.1:1000/\", \"http://192.168.80.1:1000/\", \"http://172.31.128.1:1000/\", \"http://127.0.0.1:1000/\"])\r\n",
       "        .then((root) => {\r\n",
       "        // use probing to find host url and api resources\r\n",
       "        // load interactive helpers and language services\r\n",
       "        let dotnetInteractiveRequire = require.config({\r\n",
       "        context: '8804.Microsoft.DotNet.Interactive.Http.HttpPort',\r\n",
       "                paths:\r\n",
       "            {\r\n",
       "                'dotnet-interactive': `${root}resources`\r\n",
       "                }\r\n",
       "        }) || require;\r\n",
       "\r\n",
       "            window.dotnetInteractiveRequire = dotnetInteractiveRequire;\r\n",
       "\r\n",
       "            window.configureRequireFromExtension = function(extensionName, extensionCacheBuster) {\r\n",
       "                let paths = {};\r\n",
       "                paths[extensionName] = `${root}extensions/${extensionName}/resources/`;\r\n",
       "                \r\n",
       "                let internalRequire = require.config({\r\n",
       "                    context: extensionCacheBuster,\r\n",
       "                    paths: paths,\r\n",
       "                    urlArgs: `cacheBuster=${extensionCacheBuster}`\r\n",
       "                    }) || require;\r\n",
       "\r\n",
       "                return internalRequire\r\n",
       "            };\r\n",
       "        \r\n",
       "            dotnetInteractiveRequire([\r\n",
       "                    'dotnet-interactive/dotnet-interactive'\r\n",
       "                ],\r\n",
       "                function (dotnet) {\r\n",
       "                    dotnet.init(window);\r\n",
       "                },\r\n",
       "                function (error) {\r\n",
       "                    console.log(error);\r\n",
       "                }\r\n",
       "            );\r\n",
       "        })\r\n",
       "        .catch(error => {console.log(error);});\r\n",
       "    }\r\n",
       "\r\n",
       "// ensure `require` is available globally\r\n",
       "if ((typeof(require) !==  typeof(Function)) || (typeof(require.config) !== typeof(Function))) {\r\n",
       "    let require_script = document.createElement('script');\r\n",
       "    require_script.setAttribute('src', 'https://cdnjs.cloudflare.com/ajax/libs/require.js/2.3.6/require.min.js');\r\n",
       "    require_script.setAttribute('type', 'text/javascript');\r\n",
       "    \r\n",
       "    \r\n",
       "    require_script.onload = function() {\r\n",
       "        loadDotnetInteractiveApi();\r\n",
       "    };\r\n",
       "\r\n",
       "    document.getElementsByTagName('head')[0].appendChild(require_script);\r\n",
       "}\r\n",
       "else {\r\n",
       "    loadDotnetInteractiveApi();\r\n",
       "}\r\n",
       "\r\n",
       "    </script>\r\n",
       "</div>"
      ]
     },
     "metadata": {},
     "output_type": "display_data"
    },
    {
     "name": "stderr",
     "output_type": "stream",
     "text": [
      "\r\n",
      "(2,17): error CS0103: Le nom 'GetByClass' n'existe pas dans le contexte actuel\r\n",
      "\r\n",
      "(3,20): error CS0103: Le nom 'GetByClass' n'existe pas dans le contexte actuel\r\n",
      "\r\n",
      "(4,24): error CS0103: Le nom 'GetByClass' n'existe pas dans le contexte actuel\r\n",
      "\r\n",
      "(5,19): error CS0103: Le nom 'GetByClass' n'existe pas dans le contexte actuel\r\n",
      "\r\n",
      "(6,15): error CS0103: Le nom 'GetByClass' n'existe pas dans le contexte actuel\r\n",
      "\r\n",
      "(8,21): error CS0246: Le nom de type ou d'espace de noms 'JobOffer' est introuvable (vous manque-t-il une directive using ou une référence d'assembly ?)\r\n",
      "\r\n",
      "(1,14): error CS0103: Le nom 'GetByClass' n'existe pas dans le contexte actuel\r\n",
      "\r\n",
      "(11,19): error CS0246: Le nom de type ou d'espace de noms 'JobOffer' est introuvable (vous manque-t-il une directive using ou une référence d'assembly ?)\r\n",
      "\r\n"
     ]
    },
    {
     "ename": "Cell not executed",
     "evalue": "compilation error",
     "output_type": "error",
     "traceback": []
    }
   ],
   "source": [
    "int nbJobs = GetByClass(\"div\", \"class\", \"job_seen_beacon\").Count;\n",
    "var jobTitles = GetByClass(\"h2\", \"class\" , \"jobTitle\");\n",
    "var companyNames = GetByClass(\"span\", \"class\", \"companyName\");\n",
    "var companyLocations = GetByClass(\"div\", \"class\", \"companyLocation\");\n",
    "var jobSnippets = GetByClass(\"div\", \"class\", \"job-snippet\");\n",
    "var daysAgo = GetByClass(\"span\", \"class\", \"date\");\n",
    "\n",
    "var Jobs = new List<JobOffer>();\n",
    "\n",
    "for (int i=0; i<nbJobs; i++) {\n",
    "    var job = new JobOffer();\n",
    "    job.Title = jobTitles.ElementAt(i);\n",
    "    job.Company = companyNames.ElementAt(i);\n",
    "    job.City = companyLocations.ElementAt(i);\n",
    "    job.Description = jobSnippets.ElementAt(i);\n",
    "    job.DaysAgo = daysAgo.ElementAt(i);\n",
    "    Jobs.Add(job);\n",
    "}"
   ]
  },
  {
   "cell_type": "code",
   "execution_count": 103,
   "id": "01b9147c",
   "metadata": {},
   "outputs": [
    {
     "data": {
      "text/html": [
       "<table><thead><tr><th><i>index</i></th><th>Title</th><th>Company</th><th>Description</th><th>City</th><th>DaysAgo</th><th>Published</th></tr></thead><tbody><tr><td>0</td><td><div class=\"dni-plaintext\">Data analyst - H/F</div></td><td><div class=\"dni-plaintext\">Dalkia</div></td><td><div class=\"dni-plaintext\"> \n",
       " Dalkia Froid Solutions, acteur majeur de la r&#233;frig&#233;ration, sp&#233;cialis&#233;e dans les services &#233;nerg&#233;tiques pour les process industriels et tertiaires, recrute un(e)…\n",
       "</div></td><td><div class=\"dni-plaintext\">Angers (49)</div></td><td><div class=\"dni-plaintext\">15</div></td><td><span>2022-02-01 17:44:50Z</span></td></tr><tr><td>1</td><td><div class=\"dni-plaintext\">Stagiaire Data Analyst (F/H)</div></td><td><div class=\"dni-plaintext\">SUEZ</div></td><td><div class=\"dni-plaintext\"> \n",
       " Vous souhaitez pr&#233;parer un Bac+4/5 (&#233;cole ing&#233;nieur ou universit&#233;) dans le domaine des data sciences.\n",
       " Stagiaire Data Analyst (F/H).\n",
       "</div></td><td><div class=\"dni-plaintext\">Nantes (44)</div></td><td><div class=\"dni-plaintext\">30</div></td><td><span>2022-01-17 17:44:50Z</span></td></tr><tr><td>2</td><td><div class=\"dni-plaintext\">Alternance Data Analyst (F/H)</div></td><td><div class=\"dni-plaintext\">Caisse d&amp;#x27;Epargne Bretagne Pays de Loire</div></td><td><div class=\"dni-plaintext\"> \n",
       " Vous serez accompagn&#233;(e) par votre tuteur tout au long de votre alternance pour apprendre le m&#233;tier de Data Analyst.\n",
       "</div></td><td><div class=\"dni-plaintext\">Orvault (44)</div></td><td><div class=\"dni-plaintext\">28</div></td><td><span>2022-01-19 17:44:50Z</span></td></tr><tr><td>3</td><td><div class=\"dni-plaintext\">#SARU Stage en Data analyst (h/f)</div></td><td><div class=\"dni-plaintext\">Airbus</div></td><td><div class=\"dni-plaintext\"> \n",
       " Etre l&#39;interface entre les fonctions, l’&#233;cosyst&#232;me data et les solutions requises.\n",
       " Dans le cadre d&#39;un cursus scolaire en formation initiale, vous recherchez un…\n",
       "</div></td><td><div class=\"dni-plaintext\">44340 Nantes</div></td><td><div class=\"dni-plaintext\">30</div></td><td><span>2022-01-17 17:44:50Z</span></td></tr><tr><td>4</td><td><div class=\"dni-plaintext\">nouveauData Analyst</div></td><td><div class=\"dni-plaintext\">Akeneo</div></td><td><div class=\"dni-plaintext\"> \n",
       " You like to create storytelling with data.\n",
       " Experience with data exposition tools as or DataBuildTool or Dataform,.\n",
       " Experience with Python or R,.\n",
       "</div></td><td><div class=\"dni-plaintext\">Nantes (44)</div></td><td><div class=\"dni-plaintext\">7</div></td><td><span>2022-02-09 17:44:50Z</span></td></tr><tr><td>5</td><td><div class=\"dni-plaintext\">Alternance - DATA ANALYST (H/F) - Nantes (44)</div></td><td><div class=\"dni-plaintext\">Banque Populaire Grand Ouest</div></td><td><div class=\"dni-plaintext\"> \n",
       " Nous recherchons un(e) Data Analyst / Scientist pour une alternance afin d&#39;accompagner notre &#233;quipe Etudes et Data Marketing dans leurs projets.\n",
       "</div></td><td><div class=\"dni-plaintext\">Nantes (44)</div></td><td><div class=\"dni-plaintext\">11</div></td><td><span>2022-02-05 17:44:50Z</span></td></tr><tr><td>6</td><td><div class=\"dni-plaintext\">Analyste DATA H/F</div></td><td><div class=\"dni-plaintext\">Baker Tilly STREGO</div></td><td><div class=\"dni-plaintext\"> \n",
       " Vous &#234;tes un acteur dans les solutions d’extraction et de transformation des donn&#233;es ainsi que dans leurs moyens de diffusion (outils de type BI).\n",
       "</div></td><td><div class=\"dni-plaintext\">Angers (49)</div></td><td><div class=\"dni-plaintext\">30</div></td><td><span>2022-01-17 17:44:50Z</span></td></tr><tr><td>7</td><td><div class=\"dni-plaintext\">Data Analyst - (F/H)</div></td><td><div class=\"dni-plaintext\">Caisse d&amp;#x27;Epargne Bretagne Pays de Loire</div></td><td><div class=\"dni-plaintext\"> \n",
       " Passionn&#233;.e par la data, vous aimez faire parler les donn&#233;es pour en extraire le meilleur au service de vos clients internes.\n",
       "</div></td><td><div class=\"dni-plaintext\">T&#233;l&#233;travail in Orvault (44)</div></td><td><div class=\"dni-plaintext\">30</div></td><td><span>2022-01-17 17:44:50Z</span></td></tr><tr><td>8</td><td><div class=\"dni-plaintext\">nouveauData Analyst risk H/F</div></td><td><div class=\"dni-plaintext\">My Money Bank</div></td><td><div class=\"dni-plaintext\"> \n",
       " Rattach&#233;(e) au responsable de portefeuilles, vous aurez le r&#244;le d&#39;un Data Analyst Risque dans cette &#233;quipe.\n",
       " En tant que Data Analyst Risque, vos missions sont…\n",
       "</div></td><td><div class=\"dni-plaintext\">Nantes (44)</div></td><td><div class=\"dni-plaintext\">4</div></td><td><span>2022-02-12 17:44:50Z</span></td></tr><tr><td>9</td><td><div class=\"dni-plaintext\">Business data analyst/Analyste de donn&#233;es</div></td><td><div class=\"dni-plaintext\">Manitou Group</div></td><td><div class=\"dni-plaintext\"> \n",
       " Recueillir, extraire et collecter les donn&#233;es des diff&#233;rentes sources.\n",
       " Cr&#233;er de dashboards, proposer les KPIs et reporting des performances pour donner une…\n",
       "</div></td><td><div class=\"dni-plaintext\">44158 Ancenis</div></td><td><div class=\"dni-plaintext\">30</div></td><td><span>2022-01-17 17:44:50Z</span></td></tr><tr><td>10</td><td><div class=\"dni-plaintext\">Data analyst</div></td><td><div class=\"dni-plaintext\">STIMULAB</div></td><td><div class=\"dni-plaintext\"> \n",
       " Une premi&#232;re exp&#233;rience en data analyse souhait&#233;e.\n",
       " Int&#233;gration d’une &#233;quipe pluri-disciplinaire de 8 personnes (techniques, scientiques, marketing…).\n",
       "</div></td><td><div class=\"dni-plaintext\">44000 Nantes</div></td><td><div class=\"dni-plaintext\">30</div></td><td><span>2022-01-17 17:44:50Z</span></td></tr><tr><td>11</td><td><div class=\"dni-plaintext\">Data Analyst F/H</div></td><td><div class=\"dni-plaintext\">Bouygues Telecom</div></td><td><div class=\"dni-plaintext\"> \n",
       " Assurer la conception et r&#233;alisation de reporting (via data Viz Tableau).\n",
       " Enfin, vous serez le r&#233;f&#233;rent data pour l&#39;&#233;quipe T&#233;l&#233;vente dans tous les sujets du…\n",
       "</div></td><td><div class=\"dni-plaintext\">Hybrid remote in Nantes (44)</div></td><td><div class=\"dni-plaintext\">11</div></td><td><span>2022-02-05 17:44:50Z</span></td></tr><tr><td>12</td><td><div class=\"dni-plaintext\">Lead Data Analyst - Data Visualisation H/F</div></td><td><div class=\"dni-plaintext\">Valoway</div></td><td><div class=\"dni-plaintext\"> \n",
       " Accompagner nos data analystes plus junior dans leur mont&#233;e en comp&#233;tence ;\n",
       " Participer &#224; des &#233;v&#232;nements autour de la data (Meetups, REX, conf&#233;rences…) ;\n",
       "</div></td><td><div class=\"dni-plaintext\">Nantes (44)</div></td><td><div class=\"dni-plaintext\">30</div></td><td><span>2022-01-17 17:44:50Z</span></td></tr><tr><td>13</td><td><div class=\"dni-plaintext\">Data Analyst (F/H)</div></td><td><div class=\"dni-plaintext\">Consept</div></td><td><div class=\"dni-plaintext\"> \n",
       " De formation sup&#233;rieure en Ing&#233;nierie informatique (Bac+4 / Cursus d’Ing&#233;nieur), vous avez acquis des exp&#233;riences significatives notamment en Data Analyse et/ou…\n",
       "</div></td><td><div class=\"dni-plaintext\">Nantes (44)</div></td><td><div class=\"dni-plaintext\">30</div></td><td><span>2022-01-17 17:44:50Z</span></td></tr><tr><td>14</td><td><div class=\"dni-plaintext\">nouveauData Analyst h/f Nantes (IT)</div></td><td><div class=\"dni-plaintext\">Siderlog Atlantique</div></td><td><div class=\"dni-plaintext\"> \n",
       " Collecter les besoins et assister &#224; la r&#233;daction de cahiers des charges aupr&#232;s des directions fonctionnelles (outils, mod&#232;les, choix d’indicateurs, ).\n",
       "</div></td><td><div class=\"dni-plaintext\">Nantes (44)</div></td><td><div class=\"dni-plaintext\">27</div></td><td><span>2022-01-20 17:44:50Z</span></td></tr></tbody></table>"
      ]
     },
     "execution_count": 103,
     "metadata": {},
     "output_type": "execute_result"
    }
   ],
   "source": [
    "Jobs"
   ]
  },
  {
   "cell_type": "code",
   "execution_count": 27,
   "id": "792d9711",
   "metadata": {},
   "outputs": [
    {
     "data": {
      "text/html": [
       "<table><thead><tr><th><i>index</i></th><th>value</th></tr></thead><tbody><tr><td>0</td><td><div class=\"dni-plaintext\">Angers (49)</div></td></tr><tr><td>1</td><td><div class=\"dni-plaintext\">Nantes (44)</div></td></tr><tr><td>2</td><td><div class=\"dni-plaintext\">Orvault (44)</div></td></tr><tr><td>3</td><td><div class=\"dni-plaintext\">44340 Nantes</div></td></tr><tr><td>4</td><td><div class=\"dni-plaintext\">Nantes (44)</div></td></tr><tr><td>5</td><td><div class=\"dni-plaintext\">Nantes (44)</div></td></tr><tr><td>6</td><td><div class=\"dni-plaintext\">Angers (49)</div></td></tr><tr><td>7</td><td><div class=\"dni-plaintext\">T&#233;l&#233;travail in Orvault (44)</div></td></tr><tr><td>8</td><td><div class=\"dni-plaintext\">Nantes (44)</div></td></tr><tr><td>9</td><td><div class=\"dni-plaintext\">44158 Ancenis</div></td></tr><tr><td>10</td><td><div class=\"dni-plaintext\">44000 Nantes</div></td></tr><tr><td>11</td><td><div class=\"dni-plaintext\">Hybrid remote in Nantes (44)</div></td></tr><tr><td>12</td><td><div class=\"dni-plaintext\">Nantes (44)</div></td></tr><tr><td>13</td><td><div class=\"dni-plaintext\">Nantes (44)</div></td></tr><tr><td>14</td><td><div class=\"dni-plaintext\">Nantes (44)</div></td></tr></tbody></table>"
      ]
     },
     "execution_count": 27,
     "metadata": {},
     "output_type": "execute_result"
    }
   ],
   "source": [
    "GetByClass(\"div\", \"class\", \"companyLocation\")"
   ]
  },
  {
   "cell_type": "code",
   "execution_count": 15,
   "id": "2f59f995",
   "metadata": {},
   "outputs": [
    {
     "data": {
      "text/html": [
       "<table><thead><tr><th><i>index</i></th><th>value</th></tr></thead><tbody><tr><td>0</td><td><div class=\"dni-plaintext\">Dalkia</div></td></tr><tr><td>1</td><td><div class=\"dni-plaintext\">SUEZ</div></td></tr><tr><td>2</td><td><div class=\"dni-plaintext\">Caisse d&amp;#x27;Epargne Bretagne Pays de Loire</div></td></tr><tr><td>3</td><td><div class=\"dni-plaintext\">Airbus</div></td></tr><tr><td>4</td><td><div class=\"dni-plaintext\">Akeneo</div></td></tr><tr><td>5</td><td><div class=\"dni-plaintext\">Banque Populaire Grand Ouest</div></td></tr><tr><td>6</td><td><div class=\"dni-plaintext\">Baker Tilly STREGO</div></td></tr><tr><td>7</td><td><div class=\"dni-plaintext\">Caisse d&amp;#x27;Epargne Bretagne Pays de Loire</div></td></tr><tr><td>8</td><td><div class=\"dni-plaintext\">My Money Bank</div></td></tr><tr><td>9</td><td><div class=\"dni-plaintext\">Manitou Group</div></td></tr><tr><td>10</td><td><div class=\"dni-plaintext\">STIMULAB</div></td></tr><tr><td>11</td><td><div class=\"dni-plaintext\">Bouygues Telecom</div></td></tr><tr><td>12</td><td><div class=\"dni-plaintext\">Valoway</div></td></tr><tr><td>13</td><td><div class=\"dni-plaintext\">Consept</div></td></tr><tr><td>14</td><td><div class=\"dni-plaintext\">Siderlog Atlantique</div></td></tr></tbody></table>"
      ]
     },
     "execution_count": 15,
     "metadata": {},
     "output_type": "execute_result"
    }
   ],
   "source": [
    "var res = htmlDoc.DocumentNode.Descendants(\"span\").\n",
    "    Where(node => node.GetAttributeValue(\"class\", \"\").\n",
    "          Contains(\"companyName\"));\n",
    "var data = res.Select(val => val.InnerText);\n",
    "data"
   ]
  },
  {
   "cell_type": "code",
   "execution_count": 20,
   "id": "669f94d2",
   "metadata": {},
   "outputs": [
    {
     "name": "stdout",
     "output_type": "stream",
     "text": [
      "System.Collections.Generic.List`1[System.String]\n"
     ]
    }
   ],
   "source": [
    "Console.WriteLine(data.ToList().GetType());"
   ]
  },
  {
   "cell_type": "code",
   "execution_count": null,
   "id": "22358413",
   "metadata": {},
   "outputs": [],
   "source": [
    "public static JobOffer ExtractData(string html) {\n",
    "    \n",
    "    var htmlDoc = new HtmlDocument();\n",
    "    htmlDoc.LoadHtml(html);\n",
    "    \n",
    "    var JobOffers = new List<JobOffser>();\n",
    "    \n",
    "    var Job = new Indeed.JobOffer();\n",
    "    \n",
    "}"
   ]
  },
  {
   "cell_type": "code",
   "execution_count": null,
   "id": "39cd8d47",
   "metadata": {},
   "outputs": [],
   "source": [
    "res = htmlDoc.DocumentNode.Descendants(\"td\").\n",
    "    Where(node => node.GetAttributeValue(\"class\", \"\").Contains(\"resultContent\")).ToList();"
   ]
  },
  {
   "cell_type": "code",
   "execution_count": null,
   "id": "d218fbee",
   "metadata": {},
   "outputs": [],
   "source": []
  }
 ],
 "metadata": {
  "kernelspec": {
   "display_name": ".NET (C#)",
   "language": "C#",
   "name": ".net-csharp"
  },
  "language_info": {
   "file_extension": ".cs",
   "mimetype": "text/x-csharp",
   "name": "C#",
   "pygments_lexer": "csharp",
   "version": "8.0"
  }
 },
 "nbformat": 4,
 "nbformat_minor": 5
}
